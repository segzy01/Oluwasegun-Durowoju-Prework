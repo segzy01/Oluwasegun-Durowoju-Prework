{
  "nbformat": 4,
  "nbformat_minor": 0,
  "metadata": {
    "colab": {
      "provenance": [],
      "include_colab_link": true
    },
    "kernelspec": {
      "name": "python3",
      "display_name": "Python 3"
    },
    "language_info": {
      "name": "python"
    },
    "accelerator": "GPU"
  },
  "cells": [
    {
      "cell_type": "markdown",
      "metadata": {
        "id": "view-in-github",
        "colab_type": "text"
      },
      "source": [
        "<a href=\"https://colab.research.google.com/github/segzy01/Oluwasegun-Durowoju-Prework/blob/master/AI_Slide_SeqTo1_VowelSounds.ipynb\" target=\"_parent\"><img src=\"https://colab.research.google.com/assets/colab-badge.svg\" alt=\"Open In Colab\"/></a>"
      ]
    },
    {
      "cell_type": "code",
      "metadata": {
        "colab": {
          "base_uri": "https://localhost:8080/"
        },
        "id": "SXD-p_Pceomn",
        "outputId": "195b7237-c02f-4e9c-f43a-311ce7c61db0"
      },
      "source": [
        "# mount gdrive with this code\n",
        "from google.colab import drive\n",
        "drive.mount('/content/drive')\n",
        "#below where the file is in gdrive, change with yours\n",
        "data_path = \"/content/drive/My Drive/AI_764/\""
      ],
      "execution_count": null,
      "outputs": [
        {
          "output_type": "stream",
          "name": "stdout",
          "text": [
            "Mounted at /content/drive\n"
          ]
        }
      ]
    },
    {
      "cell_type": "code",
      "metadata": {
        "colab": {
          "base_uri": "https://localhost:8080/"
        },
        "id": "iRQgrkZ0ddjz",
        "outputId": "b8900fea-534d-4c59-8b25-83fa637886cf"
      },
      "source": [
        "import numpy as np\n",
        "import pandas as pd\n",
        "sheetData = pd.read_excel('/content/drive/My Drive/AI_764/VowelSound_Padded.xlsx', \n",
        "                          sheet_name='XTrain', header=None)\n",
        "XTrain = np.array(sheetData)\n",
        "print(XTrain.shape, XTrain.size)\n",
        "\n",
        "sheetData = pd.read_excel('/content/drive/My Drive/AI_764/VowelSound_Padded.xlsx', \n",
        "                          sheet_name='XTest', header=None)\n",
        "XTest = np.array(sheetData)\n",
        "print(XTest.shape, XTest.size)\n",
        "\n",
        "\n",
        "sheetData = pd.read_excel('/content/drive/My Drive/AI_764/VowelSound_Padded.xlsx', \n",
        "                          sheet_name='YTrain', header=None)\n",
        "YTrain = np.array(sheetData)\n",
        "YTrain = YTrain - 1   # from 0 to 8\n",
        "print(YTrain.shape, YTrain.size)\n",
        "\n",
        "sheetData = pd.read_excel('/content/drive/My Drive/AI_764/VowelSound_Padded.xlsx', \n",
        "                          sheet_name='YTest', header=None)\n",
        "YTest = np.array(sheetData)\n",
        "YTest = YTest - 1   # from 0 to 8\n",
        "print(YTest.shape, YTest.size)"
      ],
      "execution_count": null,
      "outputs": [
        {
          "output_type": "stream",
          "name": "stdout",
          "text": [
            "(3240, 29) 93960\n",
            "(4440, 29) 128760\n",
            "(270, 1) 270\n",
            "(370, 1) 370\n"
          ]
        }
      ]
    },
    {
      "cell_type": "code",
      "metadata": {
        "colab": {
          "base_uri": "https://localhost:8080/"
        },
        "id": "UwXyraiphNnb",
        "outputId": "0ad58acb-ec2a-498c-d99f-8b95f4123a2f"
      },
      "source": [
        "NumVars = 12\n",
        "numClasses = 9\n",
        "SeqLength = 29    # all variable length sequences have been preprocessed and padded to longest 29\n",
        "NumTrainRecs = int(XTrain.shape[0] / NumVars)\n",
        "NumTestRecs = int(XTest.shape[0] / NumVars)\n",
        "print(NumTrainRecs, NumTestRecs)"
      ],
      "execution_count": null,
      "outputs": [
        {
          "output_type": "stream",
          "name": "stdout",
          "text": [
            "270 370\n"
          ]
        }
      ]
    },
    {
      "cell_type": "code",
      "metadata": {
        "colab": {
          "base_uri": "https://localhost:8080/"
        },
        "id": "TcEpuwLLfbzq",
        "outputId": "a960cbfd-6c76-4f89-904c-0798527cad92"
      },
      "source": [
        "# make sure the size being read in is correct\n",
        "XTrain = XTrain.reshape(NumTrainRecs, SeqLength, NumVars)\n",
        "print(XTrain.shape, XTrain.size)\n",
        "\n",
        "XTest = XTest.reshape(NumTestRecs, SeqLength, NumVars)\n",
        "print(XTest.shape, XTest.size)"
      ],
      "execution_count": null,
      "outputs": [
        {
          "output_type": "stream",
          "name": "stdout",
          "text": [
            "(270, 29, 12) 93960\n",
            "(370, 29, 12) 128760\n"
          ]
        }
      ]
    },
    {
      "cell_type": "code",
      "metadata": {
        "colab": {
          "base_uri": "https://localhost:8080/"
        },
        "id": "-2XoaTGBjJ7k",
        "outputId": "3073bd14-36b7-4186-a5bd-e256cf793403"
      },
      "source": [
        "# Convert array of labeled data to one-hot vector\n",
        "from keras.utils.np_utils import to_categorical\n",
        "\n",
        "CAT_YTrain = to_categorical(YTrain)\n",
        "print(np.min(YTrain), np.max(YTrain), CAT_YTrain.shape)\n",
        "\n",
        "CAT_YTest = to_categorical(YTest)\n",
        "print(np.min(YTest), np.max(YTest), CAT_YTest.shape)"
      ],
      "execution_count": null,
      "outputs": [
        {
          "output_type": "stream",
          "name": "stdout",
          "text": [
            "0 8 (270, 9)\n",
            "0 8 (370, 9)\n"
          ]
        }
      ]
    },
    {
      "cell_type": "code",
      "metadata": {
        "id": "Jjn_1TLunTXG"
      },
      "source": [
        "from tensorflow.keras.models import Model\n",
        "from tensorflow.keras.models import Sequential\n",
        "from tensorflow.keras.layers import Input, Dense, LSTM"
      ],
      "execution_count": null,
      "outputs": []
    },
    {
      "cell_type": "code",
      "metadata": {
        "colab": {
          "base_uri": "https://localhost:8080/"
        },
        "id": "vbuS6wr9gDMW",
        "outputId": "9852a609-4943-4c38-ea11-f9e918729e12"
      },
      "source": [
        "numHiddenUnits = 100\n",
        "maxEpochs = 100;\n",
        "miniBatchSize = 27;\n",
        "\n",
        "model = Sequential()\n",
        "model.add(LSTM(numHiddenUnits, input_shape=(SeqLength, NumVars)))\n",
        "model.add(Dense(numClasses, activation='softmax'))\n",
        "\n",
        "model.compile(loss='categorical_crossentropy', optimizer='adam', metrics=['accuracy'])\n",
        "\n",
        "model.summary()"
      ],
      "execution_count": null,
      "outputs": [
        {
          "output_type": "stream",
          "name": "stdout",
          "text": [
            "Model: \"sequential\"\n",
            "_________________________________________________________________\n",
            "Layer (type)                 Output Shape              Param #   \n",
            "=================================================================\n",
            "lstm (LSTM)                  (None, 100)               45200     \n",
            "_________________________________________________________________\n",
            "dense (Dense)                (None, 9)                 909       \n",
            "=================================================================\n",
            "Total params: 46,109\n",
            "Trainable params: 46,109\n",
            "Non-trainable params: 0\n",
            "_________________________________________________________________\n"
          ]
        }
      ]
    },
    {
      "cell_type": "code",
      "metadata": {
        "id": "qVbHs3inm31J",
        "colab": {
          "base_uri": "https://localhost:8080/"
        },
        "outputId": "ed5b8b21-d47f-4f4a-9def-05810984e29a"
      },
      "source": [
        "model.fit(XTrain, CAT_YTrain, epochs = maxEpochs, batch_size=  miniBatchSize, verbose = 1)"
      ],
      "execution_count": null,
      "outputs": [
        {
          "output_type": "stream",
          "name": "stdout",
          "text": [
            "Epoch 1/100\n",
            "10/10 [==============================] - 5s 5ms/step - loss: 2.1954 - accuracy: 0.1444\n",
            "Epoch 2/100\n",
            "10/10 [==============================] - 0s 4ms/step - loss: 2.1758 - accuracy: 0.2037\n",
            "Epoch 3/100\n",
            "10/10 [==============================] - 0s 5ms/step - loss: 2.0584 - accuracy: 0.2704\n",
            "Epoch 4/100\n",
            "10/10 [==============================] - 0s 5ms/step - loss: 1.8209 - accuracy: 0.3148\n",
            "Epoch 5/100\n",
            "10/10 [==============================] - 0s 5ms/step - loss: 1.6706 - accuracy: 0.3593\n",
            "Epoch 6/100\n",
            "10/10 [==============================] - 0s 4ms/step - loss: 1.5773 - accuracy: 0.3519\n",
            "Epoch 7/100\n",
            "10/10 [==============================] - 0s 4ms/step - loss: 1.4739 - accuracy: 0.3889\n",
            "Epoch 8/100\n",
            "10/10 [==============================] - 0s 4ms/step - loss: 1.4009 - accuracy: 0.4407\n",
            "Epoch 9/100\n",
            "10/10 [==============================] - 0s 4ms/step - loss: 1.3284 - accuracy: 0.4778\n",
            "Epoch 10/100\n",
            "10/10 [==============================] - 0s 4ms/step - loss: 1.3759 - accuracy: 0.5000\n",
            "Epoch 11/100\n",
            "10/10 [==============================] - 0s 4ms/step - loss: 1.3550 - accuracy: 0.5259\n",
            "Epoch 12/100\n",
            "10/10 [==============================] - 0s 4ms/step - loss: 1.2780 - accuracy: 0.5333\n",
            "Epoch 13/100\n",
            "10/10 [==============================] - 0s 4ms/step - loss: 1.1739 - accuracy: 0.5481\n",
            "Epoch 14/100\n",
            "10/10 [==============================] - 0s 4ms/step - loss: 1.0576 - accuracy: 0.6000\n",
            "Epoch 15/100\n",
            "10/10 [==============================] - 0s 4ms/step - loss: 1.0161 - accuracy: 0.6148\n",
            "Epoch 16/100\n",
            "10/10 [==============================] - 0s 4ms/step - loss: 0.9369 - accuracy: 0.6407\n",
            "Epoch 17/100\n",
            "10/10 [==============================] - 0s 4ms/step - loss: 0.8908 - accuracy: 0.6519\n",
            "Epoch 18/100\n",
            "10/10 [==============================] - 0s 4ms/step - loss: 0.8857 - accuracy: 0.6370\n",
            "Epoch 19/100\n",
            "10/10 [==============================] - 0s 4ms/step - loss: 0.8361 - accuracy: 0.7037\n",
            "Epoch 20/100\n",
            "10/10 [==============================] - 0s 4ms/step - loss: 0.7910 - accuracy: 0.7074\n",
            "Epoch 21/100\n",
            "10/10 [==============================] - 0s 4ms/step - loss: 0.8008 - accuracy: 0.6815\n",
            "Epoch 22/100\n",
            "10/10 [==============================] - 0s 4ms/step - loss: 0.7519 - accuracy: 0.7037\n",
            "Epoch 23/100\n",
            "10/10 [==============================] - 0s 4ms/step - loss: 0.7472 - accuracy: 0.7148\n",
            "Epoch 24/100\n",
            "10/10 [==============================] - 0s 4ms/step - loss: 0.7098 - accuracy: 0.7074\n",
            "Epoch 25/100\n",
            "10/10 [==============================] - 0s 4ms/step - loss: 0.7415 - accuracy: 0.7370\n",
            "Epoch 26/100\n",
            "10/10 [==============================] - 0s 4ms/step - loss: 0.6604 - accuracy: 0.7444\n",
            "Epoch 27/100\n",
            "10/10 [==============================] - 0s 5ms/step - loss: 0.6245 - accuracy: 0.7667\n",
            "Epoch 28/100\n",
            "10/10 [==============================] - 0s 4ms/step - loss: 0.6910 - accuracy: 0.7407\n",
            "Epoch 29/100\n",
            "10/10 [==============================] - 0s 4ms/step - loss: 0.7143 - accuracy: 0.7111\n",
            "Epoch 30/100\n",
            "10/10 [==============================] - 0s 4ms/step - loss: 0.7489 - accuracy: 0.7111\n",
            "Epoch 31/100\n",
            "10/10 [==============================] - 0s 4ms/step - loss: 0.6931 - accuracy: 0.7370\n",
            "Epoch 32/100\n",
            "10/10 [==============================] - 0s 5ms/step - loss: 0.6160 - accuracy: 0.7852\n",
            "Epoch 33/100\n",
            "10/10 [==============================] - 0s 4ms/step - loss: 0.5533 - accuracy: 0.8000\n",
            "Epoch 34/100\n",
            "10/10 [==============================] - 0s 4ms/step - loss: 0.5337 - accuracy: 0.8074\n",
            "Epoch 35/100\n",
            "10/10 [==============================] - 0s 4ms/step - loss: 0.4970 - accuracy: 0.8074\n",
            "Epoch 36/100\n",
            "10/10 [==============================] - 0s 4ms/step - loss: 0.6845 - accuracy: 0.7481\n",
            "Epoch 37/100\n",
            "10/10 [==============================] - 0s 4ms/step - loss: 0.6202 - accuracy: 0.7667\n",
            "Epoch 38/100\n",
            "10/10 [==============================] - 0s 4ms/step - loss: 0.6194 - accuracy: 0.7741\n",
            "Epoch 39/100\n",
            "10/10 [==============================] - 0s 4ms/step - loss: 0.6357 - accuracy: 0.7111\n",
            "Epoch 40/100\n",
            "10/10 [==============================] - 0s 4ms/step - loss: 0.5840 - accuracy: 0.7815\n",
            "Epoch 41/100\n",
            "10/10 [==============================] - 0s 4ms/step - loss: 0.5141 - accuracy: 0.8259\n",
            "Epoch 42/100\n",
            "10/10 [==============================] - 0s 4ms/step - loss: 0.4594 - accuracy: 0.8222\n",
            "Epoch 43/100\n",
            "10/10 [==============================] - 0s 4ms/step - loss: 0.4585 - accuracy: 0.8148\n",
            "Epoch 44/100\n",
            "10/10 [==============================] - 0s 4ms/step - loss: 0.4402 - accuracy: 0.8444\n",
            "Epoch 45/100\n",
            "10/10 [==============================] - 0s 4ms/step - loss: 0.4075 - accuracy: 0.8370\n",
            "Epoch 46/100\n",
            "10/10 [==============================] - 0s 4ms/step - loss: 0.3660 - accuracy: 0.8667\n",
            "Epoch 47/100\n",
            "10/10 [==============================] - 0s 4ms/step - loss: 0.4037 - accuracy: 0.8593\n",
            "Epoch 48/100\n",
            "10/10 [==============================] - 0s 4ms/step - loss: 0.3811 - accuracy: 0.8704\n",
            "Epoch 49/100\n",
            "10/10 [==============================] - 0s 4ms/step - loss: 0.4285 - accuracy: 0.8259\n",
            "Epoch 50/100\n",
            "10/10 [==============================] - 0s 4ms/step - loss: 0.4078 - accuracy: 0.8222\n",
            "Epoch 51/100\n",
            "10/10 [==============================] - 0s 4ms/step - loss: 0.4220 - accuracy: 0.8519\n",
            "Epoch 52/100\n",
            "10/10 [==============================] - 0s 4ms/step - loss: 0.3985 - accuracy: 0.8630\n",
            "Epoch 53/100\n",
            "10/10 [==============================] - 0s 4ms/step - loss: 0.3362 - accuracy: 0.8778\n",
            "Epoch 54/100\n",
            "10/10 [==============================] - 0s 4ms/step - loss: 0.2845 - accuracy: 0.9074\n",
            "Epoch 55/100\n",
            "10/10 [==============================] - 0s 4ms/step - loss: 0.2550 - accuracy: 0.9222\n",
            "Epoch 56/100\n",
            "10/10 [==============================] - 0s 4ms/step - loss: 0.3282 - accuracy: 0.8778\n",
            "Epoch 57/100\n",
            "10/10 [==============================] - 0s 4ms/step - loss: 0.4574 - accuracy: 0.8407\n",
            "Epoch 58/100\n",
            "10/10 [==============================] - 0s 4ms/step - loss: 0.3042 - accuracy: 0.9000\n",
            "Epoch 59/100\n",
            "10/10 [==============================] - 0s 4ms/step - loss: 0.2807 - accuracy: 0.9148\n",
            "Epoch 60/100\n",
            "10/10 [==============================] - 0s 4ms/step - loss: 0.2232 - accuracy: 0.9259\n",
            "Epoch 61/100\n",
            "10/10 [==============================] - 0s 4ms/step - loss: 0.2328 - accuracy: 0.9222\n",
            "Epoch 62/100\n",
            "10/10 [==============================] - 0s 5ms/step - loss: 0.2880 - accuracy: 0.9185\n",
            "Epoch 63/100\n",
            "10/10 [==============================] - 0s 4ms/step - loss: 0.2699 - accuracy: 0.9185\n",
            "Epoch 64/100\n",
            "10/10 [==============================] - 0s 4ms/step - loss: 0.2320 - accuracy: 0.9259\n",
            "Epoch 65/100\n",
            "10/10 [==============================] - 0s 4ms/step - loss: 0.2138 - accuracy: 0.9259\n",
            "Epoch 66/100\n",
            "10/10 [==============================] - 0s 3ms/step - loss: 0.1615 - accuracy: 0.9630\n",
            "Epoch 67/100\n",
            "10/10 [==============================] - 0s 4ms/step - loss: 0.1847 - accuracy: 0.9481\n",
            "Epoch 68/100\n",
            "10/10 [==============================] - 0s 4ms/step - loss: 0.1350 - accuracy: 0.9741\n",
            "Epoch 69/100\n",
            "10/10 [==============================] - 0s 4ms/step - loss: 0.1142 - accuracy: 0.9741\n",
            "Epoch 70/100\n",
            "10/10 [==============================] - 0s 4ms/step - loss: 0.1064 - accuracy: 0.9741\n",
            "Epoch 71/100\n",
            "10/10 [==============================] - 0s 4ms/step - loss: 0.0965 - accuracy: 0.9778\n",
            "Epoch 72/100\n",
            "10/10 [==============================] - 0s 4ms/step - loss: 0.0867 - accuracy: 0.9778\n",
            "Epoch 73/100\n",
            "10/10 [==============================] - 0s 4ms/step - loss: 0.0746 - accuracy: 0.9852\n",
            "Epoch 74/100\n",
            "10/10 [==============================] - 0s 4ms/step - loss: 0.0738 - accuracy: 0.9889\n",
            "Epoch 75/100\n",
            "10/10 [==============================] - 0s 4ms/step - loss: 0.0773 - accuracy: 0.9889\n",
            "Epoch 76/100\n",
            "10/10 [==============================] - 0s 4ms/step - loss: 0.1367 - accuracy: 0.9667\n",
            "Epoch 77/100\n",
            "10/10 [==============================] - 0s 4ms/step - loss: 0.2724 - accuracy: 0.9037\n",
            "Epoch 78/100\n",
            "10/10 [==============================] - 0s 4ms/step - loss: 0.3113 - accuracy: 0.8963\n",
            "Epoch 79/100\n",
            "10/10 [==============================] - 0s 4ms/step - loss: 0.2524 - accuracy: 0.9111\n",
            "Epoch 80/100\n",
            "10/10 [==============================] - 0s 4ms/step - loss: 0.2692 - accuracy: 0.8963\n",
            "Epoch 81/100\n",
            "10/10 [==============================] - 0s 4ms/step - loss: 0.1810 - accuracy: 0.9296\n",
            "Epoch 82/100\n",
            "10/10 [==============================] - 0s 4ms/step - loss: 0.1531 - accuracy: 0.9407\n",
            "Epoch 83/100\n",
            "10/10 [==============================] - 0s 4ms/step - loss: 0.1075 - accuracy: 0.9741\n",
            "Epoch 84/100\n",
            "10/10 [==============================] - 0s 4ms/step - loss: 0.1420 - accuracy: 0.9593\n",
            "Epoch 85/100\n",
            "10/10 [==============================] - 0s 4ms/step - loss: 0.0837 - accuracy: 0.9815\n",
            "Epoch 86/100\n",
            "10/10 [==============================] - 0s 4ms/step - loss: 0.0852 - accuracy: 0.9741\n",
            "Epoch 87/100\n",
            "10/10 [==============================] - 0s 4ms/step - loss: 0.0985 - accuracy: 0.9630\n",
            "Epoch 88/100\n",
            "10/10 [==============================] - 0s 4ms/step - loss: 0.0803 - accuracy: 0.9815\n",
            "Epoch 89/100\n",
            "10/10 [==============================] - 0s 3ms/step - loss: 0.0500 - accuracy: 0.9926\n",
            "Epoch 90/100\n",
            "10/10 [==============================] - 0s 3ms/step - loss: 0.0394 - accuracy: 0.9963\n",
            "Epoch 91/100\n",
            "10/10 [==============================] - 0s 4ms/step - loss: 0.0324 - accuracy: 0.9963\n",
            "Epoch 92/100\n",
            "10/10 [==============================] - 0s 4ms/step - loss: 0.0273 - accuracy: 0.9963\n",
            "Epoch 93/100\n",
            "10/10 [==============================] - 0s 4ms/step - loss: 0.0257 - accuracy: 0.9963\n",
            "Epoch 94/100\n",
            "10/10 [==============================] - 0s 4ms/step - loss: 0.0287 - accuracy: 0.9926\n",
            "Epoch 95/100\n",
            "10/10 [==============================] - 0s 4ms/step - loss: 0.0488 - accuracy: 0.9815\n",
            "Epoch 96/100\n",
            "10/10 [==============================] - 0s 4ms/step - loss: 0.0320 - accuracy: 1.0000\n",
            "Epoch 97/100\n",
            "10/10 [==============================] - 0s 4ms/step - loss: 0.0428 - accuracy: 0.9889\n",
            "Epoch 98/100\n",
            "10/10 [==============================] - 0s 4ms/step - loss: 0.1826 - accuracy: 0.9222\n",
            "Epoch 99/100\n",
            "10/10 [==============================] - 0s 4ms/step - loss: 0.1650 - accuracy: 0.9519\n",
            "Epoch 100/100\n",
            "10/10 [==============================] - 0s 4ms/step - loss: 0.1064 - accuracy: 0.9778\n"
          ]
        },
        {
          "output_type": "execute_result",
          "data": {
            "text/plain": [
              "<keras.callbacks.History at 0x7f2430088990>"
            ]
          },
          "metadata": {},
          "execution_count": 9
        }
      ]
    },
    {
      "cell_type": "code",
      "metadata": {
        "id": "_flKGalPoZRt"
      },
      "source": [
        "from sklearn import metrics\n",
        "from sklearn.metrics import classification_report, confusion_matrix"
      ],
      "execution_count": null,
      "outputs": []
    },
    {
      "cell_type": "code",
      "metadata": {
        "colab": {
          "base_uri": "https://localhost:8080/"
        },
        "id": "A7EmCvvQoHnB",
        "outputId": "4c7a2560-1eb4-48f0-fad4-6066e80a0578"
      },
      "source": [
        "# evaluate predictions from training\n",
        "Y_score_train = model.predict(XTrain, verbose=0)\n",
        "Y_hat_train = np.argmax(Y_score_train, axis=-1)   \n",
        "print(\"Classification Report: \\n \\n\", classification_report(YTrain, Y_hat_train))\n",
        "print(\"Confusion matrix: \\n \\n\", confusion_matrix(YTrain, Y_hat_train))"
      ],
      "execution_count": null,
      "outputs": [
        {
          "output_type": "stream",
          "name": "stdout",
          "text": [
            "Classification Report: \n",
            " \n",
            "               precision    recall  f1-score   support\n",
            "\n",
            "           0       1.00      1.00      1.00        30\n",
            "           1       1.00      1.00      1.00        30\n",
            "           2       1.00      0.87      0.93        30\n",
            "           3       0.91      1.00      0.95        30\n",
            "           4       1.00      0.93      0.97        30\n",
            "           5       1.00      1.00      1.00        30\n",
            "           6       0.94      1.00      0.97        30\n",
            "           7       0.81      1.00      0.90        30\n",
            "           8       1.00      0.80      0.89        30\n",
            "\n",
            "    accuracy                           0.96       270\n",
            "   macro avg       0.96      0.96      0.96       270\n",
            "weighted avg       0.96      0.96      0.96       270\n",
            "\n",
            "Confusion matrix: \n",
            " \n",
            " [[30  0  0  0  0  0  0  0  0]\n",
            " [ 0 30  0  0  0  0  0  0  0]\n",
            " [ 0  0 26  3  0  0  0  1  0]\n",
            " [ 0  0  0 30  0  0  0  0  0]\n",
            " [ 0  0  0  0 28  0  0  2  0]\n",
            " [ 0  0  0  0  0 30  0  0  0]\n",
            " [ 0  0  0  0  0  0 30  0  0]\n",
            " [ 0  0  0  0  0  0  0 30  0]\n",
            " [ 0  0  0  0  0  0  2  4 24]]\n"
          ]
        }
      ]
    },
    {
      "cell_type": "code",
      "metadata": {
        "colab": {
          "base_uri": "https://localhost:8080/"
        },
        "id": "PDSYf4lcod9Z",
        "outputId": "0919d7b4-9502-4756-d5c8-eee4b9284af5"
      },
      "source": [
        "# evaluate predictions from test\n",
        "Y_score_test = model.predict(XTest, verbose=0)\n",
        "Y_hat_test = np.argmax(Y_score_test, axis=-1)   \n",
        "print(\"Classification Report: \\n \\n\", classification_report(YTest, Y_hat_test))\n",
        "print(\"Confusion matrix: \\n \\n\", confusion_matrix(YTest, Y_hat_test))"
      ],
      "execution_count": null,
      "outputs": [
        {
          "output_type": "stream",
          "name": "stdout",
          "text": [
            "Classification Report: \n",
            " \n",
            "               precision    recall  f1-score   support\n",
            "\n",
            "           0       0.96      0.81      0.88        31\n",
            "           1       0.85      0.83      0.84        35\n",
            "           2       0.90      0.81      0.85        88\n",
            "           3       0.77      0.91      0.83        44\n",
            "           4       1.00      0.90      0.95        29\n",
            "           5       0.88      0.92      0.90        24\n",
            "           6       0.90      0.68      0.77        40\n",
            "           7       0.71      0.90      0.80        50\n",
            "           8       0.66      0.79      0.72        29\n",
            "\n",
            "    accuracy                           0.83       370\n",
            "   macro avg       0.85      0.84      0.84       370\n",
            "weighted avg       0.85      0.83      0.83       370\n",
            "\n",
            "Confusion matrix: \n",
            " \n",
            " [[25  0  0  0  0  3  0  1  2]\n",
            " [ 0 29  0  4  0  0  0  2  0]\n",
            " [ 0  2 71  8  0  0  0  6  1]\n",
            " [ 0  1  3 40  0  0  0  0  0]\n",
            " [ 0  0  0  0 26  0  0  3  0]\n",
            " [ 0  1  0  0  0 22  0  1  0]\n",
            " [ 0  0  1  0  0  0 27  3  9]\n",
            " [ 0  1  4  0  0  0  0 45  0]\n",
            " [ 1  0  0  0  0  0  3  2 23]]\n"
          ]
        }
      ]
    }
  ]
}