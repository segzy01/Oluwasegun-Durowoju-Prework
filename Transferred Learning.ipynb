{
  "nbformat": 4,
  "nbformat_minor": 0,
  "metadata": {
    "colab": {
      "provenance": [],
      "authorship_tag": "ABX9TyONEhrI3vuVYdqLyY2lYjnU",
      "include_colab_link": true
    },
    "kernelspec": {
      "name": "python3",
      "display_name": "Python 3"
    },
    "language_info": {
      "name": "python"
    }
  },
  "cells": [
    {
      "cell_type": "markdown",
      "metadata": {
        "id": "view-in-github",
        "colab_type": "text"
      },
      "source": [
        "<a href=\"https://colab.research.google.com/github/segzy01/Oluwasegun-Durowoju-Prework/blob/master/Transferred%20Learning.ipynb\" target=\"_parent\"><img src=\"https://colab.research.google.com/assets/colab-badge.svg\" alt=\"Open In Colab\"/></a>"
      ]
    },
    {
      "cell_type": "code",
      "execution_count": 1,
      "metadata": {
        "id": "FgL2bcBZsI9q"
      },
      "outputs": [],
      "source": [
        "import numpy as np\n",
        "from tensorflow import keras\n",
        "from tensorflow.keras.applications.vgg16 import VGG16\n",
        "from tensorflow.keras.layers import Dense, Flatten, Dropout\n",
        "from tensorflow.keras.models import Model\n",
        "import tensorflow as tf\n",
        "from tensorflow import keras\n",
        "from tensorflow.keras.models import Sequential\n",
        "from tensorflow.keras.layers import Activation, Dense, Dropout, Flatten, MaxPooling2D, BatchNormalization\n",
        "from tensorflow.keras.layers import Conv2D\n",
        "#from keras.layers import Convolution2D\n",
        "#from keras.layers.normalization import BatchNormalization\n",
        "from keras.preprocessing.image import ImageDataGenerator\n",
        "from sklearn.metrics import confusion_matrix\n",
        "from math import ceil\n"
      ]
    },
    {
      "cell_type": "code",
      "execution_count": 4,
      "metadata": {
        "colab": {
          "base_uri": "https://localhost:8080/"
        },
        "id": "GKNQnBYLpwNm",
        "outputId": "ad53486b-7188-47eb-cebe-3758ceb28203"
      },
      "outputs": [
        {
          "output_type": "stream",
          "name": "stdout",
          "text": [
            "Drive already mounted at /content/drive; to attempt to forcibly remount, call drive.mount(\"/content/drive\", force_remount=True).\n"
          ]
        }
      ],
      "source": [
        "# mount gdrive with this code\n",
        "from google.colab import drive\n",
        "drive.mount('/content/drive')\n",
        "#below where the file is in gdrive, change with yours\n",
        "data_path = \"/content/drive/My Drive/AI_764/\"\n",
        "###yearsBase, meanBase = np.loadtxt(data_path + 'file.csv', delimiter=',', unpack=True)"
      ]
    },
    {
      "cell_type": "code",
      "source": [
        "\n",
        "from IPython.display import display\n",
        "from PIL import Image"
      ],
      "metadata": {
        "id": "fSCKmAg-sZv4"
      },
      "execution_count": 5,
      "outputs": []
    },
    {
      "cell_type": "code",
      "source": [
        "batch_size = 10\n",
        "\n",
        "data = ImageDataGenerator(rescale=1. / 255, \n",
        "                          validation_split=0.2)\n",
        "\n",
        "training_data = data.flow_from_directory('/content/drive/MyDrive/Iris_Imgs/Iris_Imgs', \n",
        "                                         target_size=(224, 224), shuffle=True, batch_size = batch_size, \n",
        "                                         class_mode='categorical', subset='training')\n",
        "\n",
        "training_data_noshuffle = data.flow_from_directory('/content/drive/MyDrive/Iris_Imgs/Iris_Imgs', \n",
        "                                         target_size=(224, 224), shuffle=False, batch_size = batch_size, \n",
        "                                         class_mode='categorical', subset='training')\n",
        "\n",
        "test_data = data.flow_from_directory('/content/drive/MyDrive/Iris_Imgs/Iris_Imgs', \n",
        "                                     target_size=(224, 224), batch_size = batch_size, shuffle=False,\n",
        "                                     class_mode='categorical', subset='validation')\n",
        "\n",
        "numClasses = 3"
      ],
      "metadata": {
        "colab": {
          "base_uri": "https://localhost:8080/"
        },
        "id": "oZ3gmtSUuVx7",
        "outputId": "d185fc8d-5a08-4408-d1fc-f91fac3123a1"
      },
      "execution_count": 8,
      "outputs": [
        {
          "output_type": "stream",
          "name": "stdout",
          "text": [
            "Found 120 images belonging to 3 classes.\n",
            "Found 120 images belonging to 3 classes.\n",
            "Found 30 images belonging to 3 classes.\n"
          ]
        }
      ]
    },
    {
      "cell_type": "code",
      "source": [
        "#vgg_conv = vgg16.VGG16(weights='imagenet', input_shape=(224, 224, 3) )"
      ],
      "metadata": {
        "id": "TJ7cNOp-tN9s"
      },
      "execution_count": 9,
      "outputs": []
    },
    {
      "cell_type": "code",
      "source": [
        "#trainStore = data.flow_from_directory('/content/drive/MyDrive/Iris_Imgs/Iris_Imgs', target_size=(224, 224, 3))"
      ],
      "metadata": {
        "id": "P5Hww7Nit1E6"
      },
      "execution_count": 10,
      "outputs": []
    },
    {
      "cell_type": "code",
      "source": [
        "#vgg_conv = vgg16.VGG16(weights='imagenet', include_top=False,\n",
        "#input_shape=(224, 224, 3) )\n",
        "vgg = VGG16(weights='imagenet', include_top = False, input_shape=(224, 224, 3) )"
      ],
      "metadata": {
        "colab": {
          "base_uri": "https://localhost:8080/"
        },
        "id": "fUQW9NHwwCtQ",
        "outputId": "6d2a62fc-affe-462a-c90b-bd962a5dbb26"
      },
      "execution_count": 11,
      "outputs": [
        {
          "output_type": "stream",
          "name": "stdout",
          "text": [
            "Downloading data from https://storage.googleapis.com/tensorflow/keras-applications/vgg16/vgg16_weights_tf_dim_ordering_tf_kernels_notop.h5\n",
            "58889256/58889256 [==============================] - 1s 0us/step\n"
          ]
        }
      ]
    },
    {
      "cell_type": "code",
      "source": [
        "vgg.trainable = False"
      ],
      "metadata": {
        "id": "nunQnz4Fcnt_"
      },
      "execution_count": 12,
      "outputs": []
    },
    {
      "cell_type": "code",
      "source": [
        "flatten_layer = tf.keras.layers.Flatten()\n",
        "dense_layer_1 = Dense(500, activation='relu')\n",
        "dense_layer_2 = Dense(250, activation='relu')\n",
        "predict_layer = Dense(3, activation='softmax')"
      ],
      "metadata": {
        "id": "jBEeXeCodHSa"
      },
      "execution_count": 13,
      "outputs": []
    },
    {
      "cell_type": "code",
      "source": [
        "model = Sequential([ # stacking together\n",
        "vgg,\n",
        "flatten_layer, dense_layer_1, dense_layer_2,\n",
        "predict_layer ])"
      ],
      "metadata": {
        "id": "JYVg5dmmd_Gg"
      },
      "execution_count": 14,
      "outputs": []
    },
    {
      "cell_type": "code",
      "source": [
        "model.summary()"
      ],
      "metadata": {
        "colab": {
          "base_uri": "https://localhost:8080/"
        },
        "id": "y68WFcqln_w6",
        "outputId": "4d25e92f-0087-47c5-dfb5-91693015a997"
      },
      "execution_count": 15,
      "outputs": [
        {
          "output_type": "stream",
          "name": "stdout",
          "text": [
            "Model: \"sequential\"\n",
            "_________________________________________________________________\n",
            " Layer (type)                Output Shape              Param #   \n",
            "=================================================================\n",
            " vgg16 (Functional)          (None, 7, 7, 512)         14714688  \n",
            "                                                                 \n",
            " flatten (Flatten)           (None, 25088)             0         \n",
            "                                                                 \n",
            " dense (Dense)               (None, 500)               12544500  \n",
            "                                                                 \n",
            " dense_1 (Dense)             (None, 250)               125250    \n",
            "                                                                 \n",
            " dense_2 (Dense)             (None, 3)                 753       \n",
            "                                                                 \n",
            "=================================================================\n",
            "Total params: 27,385,191\n",
            "Trainable params: 12,670,503\n",
            "Non-trainable params: 14,714,688\n",
            "_________________________________________________________________\n"
          ]
        }
      ]
    },
    {
      "cell_type": "code",
      "source": [
        "#for layer in model.layers:\n",
        "    #layer.trainable = False\n"
      ],
      "metadata": {
        "id": "Sh8uf9CuviuH"
      },
      "execution_count": 16,
      "outputs": []
    },
    {
      "cell_type": "code",
      "source": [
        "model.compile(optimizer = 'adam',\n",
        "loss = 'categorical_crossentropy', metrics = ['accuracy'])"
      ],
      "metadata": {
        "id": "5vCz3UYps37o"
      },
      "execution_count": 17,
      "outputs": []
    },
    {
      "cell_type": "code",
      "source": [
        "# Define the optimizer\n",
        "opt = keras.optimizers.Adam()\n",
        "\n",
        "# Compile the model\n",
        "model.compile(optimizer=opt,\n",
        "              loss='categorical_crossentropy',\n",
        "              metrics=['accuracy'])\n",
        "\n",
        "# Define the number of epochs\n",
        "MyEpochs = 30\n",
        "\n",
        "# Train the model\n",
        "model.fit(training_data,\n",
        "          batch_size=10,\n",
        "          epochs=MyEpochs,\n",
        "          validation_data=test_data,\n",
        "          shuffle=True)\n",
        "\n"
      ],
      "metadata": {
        "colab": {
          "base_uri": "https://localhost:8080/"
        },
        "id": "2UeN16VUeHpI",
        "outputId": "19eae73b-23a6-4339-e4df-d49afbbfc032"
      },
      "execution_count": 18,
      "outputs": [
        {
          "output_type": "stream",
          "name": "stdout",
          "text": [
            "Epoch 1/30\n",
            "12/12 [==============================] - 94s 8s/step - loss: 2.4855 - accuracy: 0.5167 - val_loss: 1.1820 - val_accuracy: 0.5667\n",
            "Epoch 2/30\n",
            "12/12 [==============================] - 86s 7s/step - loss: 1.0295 - accuracy: 0.5417 - val_loss: 0.4454 - val_accuracy: 0.9667\n",
            "Epoch 3/30\n",
            "12/12 [==============================] - 87s 7s/step - loss: 0.6289 - accuracy: 0.7417 - val_loss: 0.3695 - val_accuracy: 0.9000\n",
            "Epoch 4/30\n",
            "12/12 [==============================] - 88s 8s/step - loss: 0.4412 - accuracy: 0.8167 - val_loss: 0.4697 - val_accuracy: 0.8667\n",
            "Epoch 5/30\n",
            "12/12 [==============================] - 92s 8s/step - loss: 0.3095 - accuracy: 0.8917 - val_loss: 0.3843 - val_accuracy: 0.8667\n",
            "Epoch 6/30\n",
            "12/12 [==============================] - 89s 8s/step - loss: 0.2787 - accuracy: 0.8917 - val_loss: 0.1912 - val_accuracy: 0.9000\n",
            "Epoch 7/30\n",
            "12/12 [==============================] - 87s 7s/step - loss: 0.2586 - accuracy: 0.8667 - val_loss: 0.2266 - val_accuracy: 0.9000\n",
            "Epoch 8/30\n",
            "12/12 [==============================] - 88s 7s/step - loss: 0.1955 - accuracy: 0.9333 - val_loss: 0.6025 - val_accuracy: 0.8333\n",
            "Epoch 9/30\n",
            "12/12 [==============================] - 87s 7s/step - loss: 0.3170 - accuracy: 0.8750 - val_loss: 0.3368 - val_accuracy: 0.8667\n",
            "Epoch 10/30\n",
            "12/12 [==============================] - 86s 7s/step - loss: 0.4418 - accuracy: 0.7750 - val_loss: 0.1485 - val_accuracy: 0.9667\n",
            "Epoch 11/30\n",
            "12/12 [==============================] - 88s 8s/step - loss: 0.2636 - accuracy: 0.8833 - val_loss: 0.1469 - val_accuracy: 0.9667\n",
            "Epoch 12/30\n",
            "12/12 [==============================] - 83s 7s/step - loss: 0.2529 - accuracy: 0.8917 - val_loss: 0.1311 - val_accuracy: 0.9667\n",
            "Epoch 13/30\n",
            "12/12 [==============================] - 85s 7s/step - loss: 0.2748 - accuracy: 0.9250 - val_loss: 0.4179 - val_accuracy: 0.8000\n",
            "Epoch 14/30\n",
            "12/12 [==============================] - 84s 7s/step - loss: 0.4507 - accuracy: 0.8500 - val_loss: 0.1452 - val_accuracy: 0.9667\n",
            "Epoch 15/30\n",
            "12/12 [==============================] - 89s 7s/step - loss: 0.1835 - accuracy: 0.9250 - val_loss: 0.1542 - val_accuracy: 0.9333\n",
            "Epoch 16/30\n",
            "12/12 [==============================] - 82s 7s/step - loss: 0.2003 - accuracy: 0.8833 - val_loss: 0.2461 - val_accuracy: 0.9000\n",
            "Epoch 17/30\n",
            "12/12 [==============================] - 87s 7s/step - loss: 0.2281 - accuracy: 0.9000 - val_loss: 0.2194 - val_accuracy: 0.9333\n",
            "Epoch 18/30\n",
            "12/12 [==============================] - 87s 7s/step - loss: 0.2384 - accuracy: 0.9083 - val_loss: 0.1627 - val_accuracy: 0.9333\n",
            "Epoch 19/30\n",
            "12/12 [==============================] - 82s 7s/step - loss: 0.1546 - accuracy: 0.9500 - val_loss: 0.1282 - val_accuracy: 0.9333\n",
            "Epoch 20/30\n",
            "12/12 [==============================] - 88s 8s/step - loss: 0.2053 - accuracy: 0.8917 - val_loss: 0.3695 - val_accuracy: 0.8667\n",
            "Epoch 21/30\n",
            "12/12 [==============================] - 86s 7s/step - loss: 0.3000 - accuracy: 0.8583 - val_loss: 0.1470 - val_accuracy: 0.9333\n",
            "Epoch 22/30\n",
            "12/12 [==============================] - 86s 7s/step - loss: 0.1787 - accuracy: 0.9250 - val_loss: 0.1315 - val_accuracy: 0.9333\n",
            "Epoch 23/30\n",
            "12/12 [==============================] - 87s 7s/step - loss: 0.1787 - accuracy: 0.9250 - val_loss: 0.2309 - val_accuracy: 0.9000\n",
            "Epoch 24/30\n",
            "12/12 [==============================] - 87s 7s/step - loss: 0.1990 - accuracy: 0.9000 - val_loss: 0.1552 - val_accuracy: 0.9000\n",
            "Epoch 25/30\n",
            "12/12 [==============================] - 87s 7s/step - loss: 0.1256 - accuracy: 0.9417 - val_loss: 0.1217 - val_accuracy: 0.9667\n",
            "Epoch 26/30\n",
            "12/12 [==============================] - 89s 8s/step - loss: 0.1319 - accuracy: 0.9500 - val_loss: 0.3543 - val_accuracy: 0.9000\n",
            "Epoch 27/30\n",
            "12/12 [==============================] - 82s 7s/step - loss: 0.2487 - accuracy: 0.8917 - val_loss: 0.1555 - val_accuracy: 0.9333\n",
            "Epoch 28/30\n",
            "12/12 [==============================] - 84s 7s/step - loss: 0.1648 - accuracy: 0.9250 - val_loss: 0.0924 - val_accuracy: 0.9333\n",
            "Epoch 29/30\n",
            "12/12 [==============================] - 87s 7s/step - loss: 0.1364 - accuracy: 0.9417 - val_loss: 0.1417 - val_accuracy: 0.9000\n",
            "Epoch 30/30\n",
            "12/12 [==============================] - 82s 7s/step - loss: 0.1394 - accuracy: 0.9417 - val_loss: 0.1944 - val_accuracy: 0.9333\n"
          ]
        },
        {
          "output_type": "execute_result",
          "data": {
            "text/plain": [
              "<keras.callbacks.History at 0x7fa777daba30>"
            ]
          },
          "metadata": {},
          "execution_count": 18
        }
      ]
    },
    {
      "cell_type": "code",
      "source": [
        "import seaborn as sns\n",
        "from sklearn.metrics import confusion_matrix\n",
        "from sklearn.metrics import accuracy_score\n",
        "from sklearn.metrics import classification_report"
      ],
      "metadata": {
        "id": "ZkPaogTffOkh"
      },
      "execution_count": 19,
      "outputs": []
    },
    {
      "cell_type": "code",
      "source": [
        "training_data.reset()\n",
        "test_data.reset()\n",
        "\n",
        "predicted_scores = model.predict(training_data_noshuffle, verbose=1)\n",
        "predicted_labels = predicted_scores.argmax(axis=1) \n",
        "\n",
        "train_labels = training_data_noshuffle.labels\n",
        "\n",
        "print(train_labels)\n",
        "print(predicted_labels)\n",
        "\n",
        "acc_score = accuracy_score(train_labels, predicted_labels)\n",
        "CFM = confusion_matrix(train_labels, predicted_labels)\n",
        "\n",
        "print(\"\\n\", \"Accuracy: \" + str(format(acc_score,'.3f')))\n",
        "print(\"\\n\", \"CFM: \\n\", confusion_matrix(train_labels, predicted_labels))\n",
        "print(\"\\n\", \"Classification report: \\n\", classification_report(train_labels, predicted_labels))"
      ],
      "metadata": {
        "colab": {
          "base_uri": "https://localhost:8080/"
        },
        "id": "_ZUjCo_xgxPF",
        "outputId": "601ae25e-56b1-459f-874b-3d7274a2f916"
      },
      "execution_count": 37,
      "outputs": [
        {
          "output_type": "stream",
          "name": "stdout",
          "text": [
            "12/12 [==============================] - 71s 6s/step\n",
            "[0 0 0 0 0 0 0 0 0 0 0 0 0 0 0 0 0 0 0 0 0 0 0 0 0 0 0 0 0 0 0 0 0 0 0 0 0\n",
            " 0 0 0 1 1 1 1 1 1 1 1 1 1 1 1 1 1 1 1 1 1 1 1 1 1 1 1 1 1 1 1 1 1 1 1 1 1\n",
            " 1 1 1 1 1 1 2 2 2 2 2 2 2 2 2 2 2 2 2 2 2 2 2 2 2 2 2 2 2 2 2 2 2 2 2 2 2\n",
            " 2 2 2 2 2 2 2 2 2]\n",
            "[0 0 0 0 0 0 0 0 0 0 0 0 0 0 0 0 0 0 0 0 0 0 0 0 0 0 0 0 0 0 0 0 0 0 0 0 0\n",
            " 0 0 0 1 0 1 1 1 1 1 1 1 1 1 1 1 1 1 1 1 1 1 1 0 1 0 1 1 1 1 1 1 1 1 1 1 1\n",
            " 0 1 1 1 1 0 2 2 2 2 2 2 2 2 2 1 2 2 2 2 2 2 2 2 2 2 2 2 2 1 1 2 2 2 2 2 2\n",
            " 2 2 2 2 2 2 2 2 2]\n",
            "\n",
            " Accuracy: 0.933\n",
            "\n",
            " CFM: \n",
            " [[40  0  0]\n",
            " [ 5 35  0]\n",
            " [ 0  3 37]]\n",
            "\n",
            " Classification report: \n",
            "               precision    recall  f1-score   support\n",
            "\n",
            "           0       0.89      1.00      0.94        40\n",
            "           1       0.92      0.88      0.90        40\n",
            "           2       1.00      0.93      0.96        40\n",
            "\n",
            "    accuracy                           0.93       120\n",
            "   macro avg       0.94      0.93      0.93       120\n",
            "weighted avg       0.94      0.93      0.93       120\n",
            "\n"
          ]
        }
      ]
    },
    {
      "cell_type": "code",
      "source": [
        "test_labels = test_data.labels\n",
        "print(test_labels)\n",
        "#print(predicted_scores)\n",
        "print(predicted_labels)\n",
        "\n",
        "predicted_scores = model.predict(test_data, verbose=1)\n",
        "predicted_labels = predicted_scores.argmax(axis=1) \n",
        "\n",
        "acc_score = accuracy_score(test_labels, predicted_labels)\n",
        "CFM = confusion_matrix(test_labels, predicted_labels)\n",
        "\n",
        "print(\"\\n\", \"Accuracy: \" + str(format(acc_score,'.3f')))\n",
        "print(\"\\n\", \"CFM: \\n\", confusion_matrix(test_labels, predicted_labels))\n",
        "print(\"\\n\", \"Classification report: \\n\", classification_report(test_labels, predicted_labels))\n"
      ],
      "metadata": {
        "colab": {
          "base_uri": "https://localhost:8080/"
        },
        "id": "msMMjHfJqM2E",
        "outputId": "a32617d5-30d1-40c4-aa3f-2a49844079f3"
      },
      "execution_count": 38,
      "outputs": [
        {
          "output_type": "stream",
          "name": "stdout",
          "text": [
            "[0 0 0 0 0 0 0 0 0 0 1 1 1 1 1 1 1 1 1 1 2 2 2 2 2 2 2 2 2 2]\n",
            "[0 0 0 0 0 0 0 0 0 0 0 0 0 0 0 0 0 0 0 0 0 0 0 0 0 0 0 0 0 0 0 0 0 0 0 0 0\n",
            " 0 0 0 1 0 1 1 1 1 1 1 1 1 1 1 1 1 1 1 1 1 1 1 0 1 0 1 1 1 1 1 1 1 1 1 1 1\n",
            " 0 1 1 1 1 0 2 2 2 2 2 2 2 2 2 1 2 2 2 2 2 2 2 2 2 2 2 2 2 1 1 2 2 2 2 2 2\n",
            " 2 2 2 2 2 2 2 2 2]\n",
            "3/3 [==============================] - 16s 6s/step\n",
            "\n",
            " Accuracy: 0.933\n",
            "\n",
            " CFM: \n",
            " [[10  0  0]\n",
            " [ 1  9  0]\n",
            " [ 0  1  9]]\n",
            "\n",
            " Classification report: \n",
            "               precision    recall  f1-score   support\n",
            "\n",
            "           0       0.91      1.00      0.95        10\n",
            "           1       0.90      0.90      0.90        10\n",
            "           2       1.00      0.90      0.95        10\n",
            "\n",
            "    accuracy                           0.93        30\n",
            "   macro avg       0.94      0.93      0.93        30\n",
            "weighted avg       0.94      0.93      0.93        30\n",
            "\n"
          ]
        }
      ]
    },
    {
      "cell_type": "markdown",
      "source": [
        "###ROC Curve"
      ],
      "metadata": {
        "id": "4Nb5_vG98S_D"
      }
    },
    {
      "cell_type": "code",
      "source": [
        "from sklearn.metrics import roc_curve, auc\n",
        "import matplotlib.pyplot as plt"
      ],
      "metadata": {
        "id": "p0jaWYTZpPdh"
      },
      "execution_count": 24,
      "outputs": []
    },
    {
      "cell_type": "code",
      "source": [
        "\n",
        "predicted_scores \n",
        "\n",
        "$\n",
        "test_labels \n",
        "\n",
        "# Convert test_labels to one-hot encoding\n",
        "from keras.utils import to_categorical\n",
        "test_labels = to_categorical(test_labels, num_classes=3)\n",
        "\n",
        "# Calculate the ROC curve and AUC for each class\n",
        "fpr = {}\n",
        "tpr = {}\n",
        "roc_auc = {}\n",
        "n_classes = 3\n",
        "for i in range(n_classes):\n",
        "    fpr[i], tpr[i], _ = roc_curve(test_labels[:, i], predicted_scores[:, i])\n",
        "    roc_auc[i] = auc(fpr[i], tpr[i])\n",
        "\n",
        "# Plot the ROC curve for each class\n",
        "plt.figure()\n",
        "lw = 2\n",
        "colors = ['red', 'blue', 'green']\n",
        "for i, color in zip(range(n_classes), colors):\n",
        "    plt.plot(fpr[i], tpr[i], color=color, lw=lw,\n",
        "             label='ROC curve of class {0} (AUC = {1:0.2f})'\n",
        "             ''.format(i, roc_auc[i]))\n",
        "\n",
        "plt.plot([0, 1], [0, 1], 'k--', lw=lw)\n",
        "plt.xlim([0.0, 1.0])\n",
        "plt.ylim([0.0, 1.05])\n",
        "plt.xlabel('False Positive Rate')\n",
        "plt.ylabel('True Positive Rate')\n",
        "plt.title('Receiver operating characteristic curve')\n",
        "plt.legend(loc=\"lower right\")\n",
        "plt.show()\n"
      ],
      "metadata": {
        "colab": {
          "base_uri": "https://localhost:8080/",
          "height": 295
        },
        "id": "U1_32Nam8ZNZ",
        "outputId": "fdb6229d-3f67-4497-b1ef-5debe0d60785"
      },
      "execution_count": 39,
      "outputs": [
        {
          "output_type": "display_data",
          "data": {
            "text/plain": [
              "<Figure size 432x288 with 1 Axes>"
            ],
            "image/png": "[encoded data removed]"
          },
          "metadata": {
            "needs_background": "light"
          }
        }
      ]
    },
    {
      "cell_type": "code",
      "source": [],
      "metadata": {
        "id": "nu190dFV-X-Z"
      },
      "execution_count": null,
      "outputs": []
    }
  ]
}