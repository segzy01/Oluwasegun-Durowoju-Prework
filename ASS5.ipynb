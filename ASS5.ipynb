{
  "nbformat": 4,
  "nbformat_minor": 0,
  "metadata": {
    "colab": {
      "provenance": [],
      "authorship_tag": "ABX9TyNkt2wjHHknxxDS2eeLGjve",
      "include_colab_link": true
    },
    "kernelspec": {
      "name": "python3",
      "display_name": "Python 3"
    },
    "language_info": {
      "name": "python"
    }
  },
  "cells": [
    {
      "cell_type": "markdown",
      "metadata": {
        "id": "view-in-github",
        "colab_type": "text"
      },
      "source": [
        "<a href=\"https://colab.research.google.com/github/segzy01/Oluwasegun-Durowoju-Prework/blob/master/ASS5.ipynb\" target=\"_parent\"><img src=\"https://colab.research.google.com/assets/colab-badge.svg\" alt=\"Open In Colab\"/></a>"
      ]
    },
    {
      "cell_type": "code",
      "execution_count": 1,
      "metadata": {
        "colab": {
          "base_uri": "https://localhost:8080/"
        },
        "id": "tNJpjhyw3-M5",
        "outputId": "c3fea1cb-efd9-4f62-b3c3-a0b16d342ae1"
      },
      "outputs": [
        {
          "output_type": "stream",
          "name": "stdout",
          "text": [
            "Mounted at /content/drive\n"
          ]
        }
      ],
      "source": [
        "# mount gdrive with this code\n",
        "from google.colab import drive\n",
        "drive.mount('/content/drive')\n",
        "#below where the file is in gdrive, change with yours\n",
        "data_path = \"/content/drive/My Drive/AI_764/\"\n",
        "###yearsBase, meanBase = np.loadtxt(data_path + 'file.csv', delimiter=',', unpack=True)"
      ]
    },
    {
      "cell_type": "markdown",
      "source": [
        "###Import Library"
      ],
      "metadata": {
        "id": "9Ki_X8wf4c-R"
      }
    },
    {
      "cell_type": "code",
      "source": [
        "from tensorflow.keras.models import Model\n",
        "from tensorflow.keras.models import Sequential\n",
        "from tensorflow.keras.layers import Dense\n",
        "from tensorflow.keras.layers import Input, Dense\n",
        "from warnings import WarningMessage\n",
        "from keras.layers import Dropout\n",
        "WarningMessage"
      ],
      "metadata": {
        "colab": {
          "base_uri": "https://localhost:8080/"
        },
        "id": "vZHLf3He4kAR",
        "outputId": "290ecf7b-5c1c-4148-e2c6-25f039ab1035"
      },
      "execution_count": 2,
      "outputs": [
        {
          "output_type": "execute_result",
          "data": {
            "text/plain": [
              "warnings.WarningMessage"
            ]
          },
          "metadata": {},
          "execution_count": 2
        }
      ]
    },
    {
      "cell_type": "markdown",
      "source": [
        "###Get Data"
      ],
      "metadata": {
        "id": "EXoazksh49uo"
      }
    },
    {
      "cell_type": "code",
      "source": [
        "import numpy as np\n",
        "newData = np.genfromtxt('/content/drive/MyDrive/CellDNA (1).csv', delimiter = ',')\n",
        "X, Raw_Y = np.split(newData, [-1], axis=1)    # split data into X and Y\n",
        "Y = np.where(Raw_Y > 0, 1, 0) \n",
        "print(X[0])\n",
        "print(Y)"
      ],
      "metadata": {
        "colab": {
          "base_uri": "https://localhost:8080/"
        },
        "id": "4XI6U04P4s5U",
        "outputId": "d33f8ef1-8ef8-4cd5-9dd8-de0b72cf67e0"
      },
      "execution_count": 3,
      "outputs": [
        {
          "output_type": "stream",
          "name": "stdout",
          "text": [
            "[222.          31.18918919  40.34234234  35.57908668   8.88391697\n",
            "   0.96832456 -80.11367302 222.           1.          16.81247093\n",
            "   0.81617647   0.578125    78.591     ]\n",
            "[[0]\n",
            " [0]\n",
            " [0]\n",
            " ...\n",
            " [0]\n",
            " [0]\n",
            " [0]]\n"
          ]
        }
      ]
    },
    {
      "cell_type": "code",
      "source": [
        "print(X.shape, Y.shape)\n",
        "print(X.ndim, Y.ndim)"
      ],
      "metadata": {
        "colab": {
          "base_uri": "https://localhost:8080/"
        },
        "id": "9G2EWGkX5EU3",
        "outputId": "12b30c4e-4f52-448d-e0b1-0a2ccd055a94"
      },
      "execution_count": 4,
      "outputs": [
        {
          "output_type": "stream",
          "name": "stdout",
          "text": [
            "(1217, 13) (1217, 1)\n",
            "2 2\n"
          ]
        }
      ]
    },
    {
      "cell_type": "code",
      "source": [
        "# Standardizing X\n",
        "from sklearn.preprocessing import StandardScaler\n",
        "scaler = StandardScaler()\n",
        "X = scaler.fit_transform(X)\n",
        "print(X[0])"
      ],
      "metadata": {
        "colab": {
          "base_uri": "https://localhost:8080/"
        },
        "id": "xmhT2oEZJvK9",
        "outputId": "28adab39-e758-4c8f-e894-9443c18c07be"
      },
      "execution_count": 5,
      "outputs": [
        {
          "output_type": "stream",
          "name": "stdout",
          "text": [
            "[ 0.15952762 -1.80200559 -1.20813407  0.11441999 -0.13568869  0.53831071\n",
            " -1.58742636  0.13583286  0.23329249  0.32962609  0.34511514  0.65289142\n",
            " -0.00691284]\n"
          ]
        }
      ]
    },
    {
      "cell_type": "code",
      "source": [
        "# Split into train and test sets\n",
        "from sklearn.model_selection import train_test_split\n",
        "X_train, X_test, Y_train, Y_test = train_test_split(X, Y, test_size=0.2, random_state=32)"
      ],
      "metadata": {
        "id": "UDmoOvLOJvdO"
      },
      "execution_count": 6,
      "outputs": []
    },
    {
      "cell_type": "code",
      "source": [
        "# Convert array of labeled data to one-hot vector\n",
        "from keras.utils.np_utils import to_categorical\n",
        "CAT_Y_train = to_categorical(Y_train,2)\n",
        "#print(CAT_Y_train)\n",
        "CAT_Y_test = to_categorical(Y_test,2)\n",
        "#print(CAT_Y_test)\n",
        "print(CAT_Y_train.ndim, CAT_Y_train.ndim)\n",
        "print(CAT_Y_test.ndim, CAT_Y_test.ndim)"
      ],
      "metadata": {
        "colab": {
          "base_uri": "https://localhost:8080/"
        },
        "id": "kfCKVlOjJ6eV",
        "outputId": "190d5f5a-8f1e-4436-96e0-25c682beb945"
      },
      "execution_count": 7,
      "outputs": [
        {
          "output_type": "stream",
          "name": "stdout",
          "text": [
            "2 2\n",
            "2 2\n"
          ]
        }
      ]
    },
    {
      "cell_type": "code",
      "source": [
        "model = Sequential()\n",
        "\n",
        "model.add(Dense(14, input_dim=13, activation='relu'))\n",
        "\n",
        "model.add(Dense(12, activation='relu'))\n",
        "\n",
        "model.add(Dense(10, activation='relu'))\n",
        "\n",
        "model.add(Dense(8, activation='relu'))\n",
        "\n",
        "model.add(Dense(6, activation='relu'))\n",
        "\n",
        "model.add(Dense(4, activation='relu'))\n",
        "\n",
        "model.add(Dense(2,activation='softmax'))\n",
        "\n",
        "print(model.summary())"
      ],
      "metadata": {
        "colab": {
          "base_uri": "https://localhost:8080/"
        },
        "id": "ziaqnayKKJG5",
        "outputId": "9b62bf59-5cd9-4160-d256-08c0abfa49e2"
      },
      "execution_count": 8,
      "outputs": [
        {
          "output_type": "stream",
          "name": "stdout",
          "text": [
            "Model: \"sequential\"\n",
            "_________________________________________________________________\n",
            " Layer (type)                Output Shape              Param #   \n",
            "=================================================================\n",
            " dense (Dense)               (None, 14)                196       \n",
            "                                                                 \n",
            " dense_1 (Dense)             (None, 12)                180       \n",
            "                                                                 \n",
            " dense_2 (Dense)             (None, 10)                130       \n",
            "                                                                 \n",
            " dense_3 (Dense)             (None, 8)                 88        \n",
            "                                                                 \n",
            " dense_4 (Dense)             (None, 6)                 54        \n",
            "                                                                 \n",
            " dense_5 (Dense)             (None, 4)                 28        \n",
            "                                                                 \n",
            " dense_6 (Dense)             (None, 2)                 10        \n",
            "                                                                 \n",
            "=================================================================\n",
            "Total params: 686\n",
            "Trainable params: 686\n",
            "Non-trainable params: 0\n",
            "_________________________________________________________________\n",
            "None\n"
          ]
        }
      ]
    },
    {
      "cell_type": "code",
      "source": [
        "# Compile model\n",
        "from tensorflow.keras.optimizers import SGD\n",
        "sgdm = SGD(momentum = 0.0)  # 0.9 or 0.0\n",
        "Compiled = model.compile(loss='binary_crossentropy', optimizer='Adam', metrics=['accuracy'] )\n",
        "#Compiled = model.compile(loss='binary_crossentropy', optimizer=sgdm, metrics=['accuracy'] )\n",
        "# Fit the model\n",
        "model.fit(X_train, CAT_Y_train, epochs=20,batch_size=20,verbose=1)"
      ],
      "metadata": {
        "colab": {
          "base_uri": "https://localhost:8080/"
        },
        "id": "kjIZEbjwQjZO",
        "outputId": "1f7bbe28-a40b-4f3d-9b7c-aa9ac7a84105"
      },
      "execution_count": 9,
      "outputs": [
        {
          "output_type": "stream",
          "name": "stdout",
          "text": [
            "Epoch 1/20\n",
            "49/49 [==============================] - 2s 2ms/step - loss: 0.7065 - accuracy: 0.5396\n",
            "Epoch 2/20\n",
            "49/49 [==============================] - 0s 2ms/step - loss: 0.6600 - accuracy: 0.8222\n",
            "Epoch 3/20\n",
            "49/49 [==============================] - 0s 2ms/step - loss: 0.6206 - accuracy: 0.8294\n",
            "Epoch 4/20\n",
            "49/49 [==============================] - 0s 3ms/step - loss: 0.5566 - accuracy: 0.8304\n",
            "Epoch 5/20\n",
            "49/49 [==============================] - 0s 2ms/step - loss: 0.4582 - accuracy: 0.8695\n",
            "Epoch 6/20\n",
            "49/49 [==============================] - 0s 3ms/step - loss: 0.3533 - accuracy: 0.8849\n",
            "Epoch 7/20\n",
            "49/49 [==============================] - 0s 3ms/step - loss: 0.2784 - accuracy: 0.8962\n",
            "Epoch 8/20\n",
            "49/49 [==============================] - 0s 4ms/step - loss: 0.2484 - accuracy: 0.9034\n",
            "Epoch 9/20\n",
            "49/49 [==============================] - 0s 3ms/step - loss: 0.2300 - accuracy: 0.9034\n",
            "Epoch 10/20\n",
            "49/49 [==============================] - 0s 3ms/step - loss: 0.2188 - accuracy: 0.9126\n",
            "Epoch 11/20\n",
            "49/49 [==============================] - 0s 6ms/step - loss: 0.2046 - accuracy: 0.9096\n",
            "Epoch 12/20\n",
            "49/49 [==============================] - 0s 8ms/step - loss: 0.1985 - accuracy: 0.9137\n",
            "Epoch 13/20\n",
            "49/49 [==============================] - 0s 3ms/step - loss: 0.1876 - accuracy: 0.9209\n",
            "Epoch 14/20\n",
            "49/49 [==============================] - 0s 3ms/step - loss: 0.1808 - accuracy: 0.9219\n",
            "Epoch 15/20\n",
            "49/49 [==============================] - 0s 3ms/step - loss: 0.1752 - accuracy: 0.9229\n",
            "Epoch 16/20\n",
            "49/49 [==============================] - 0s 3ms/step - loss: 0.1716 - accuracy: 0.9239\n",
            "Epoch 17/20\n",
            "49/49 [==============================] - 0s 4ms/step - loss: 0.1626 - accuracy: 0.9260\n",
            "Epoch 18/20\n",
            "49/49 [==============================] - 0s 3ms/step - loss: 0.1609 - accuracy: 0.9198\n",
            "Epoch 19/20\n",
            "49/49 [==============================] - 0s 4ms/step - loss: 0.1560 - accuracy: 0.9260\n",
            "Epoch 20/20\n",
            "49/49 [==============================] - 0s 3ms/step - loss: 0.1538 - accuracy: 0.9281\n"
          ]
        },
        {
          "output_type": "execute_result",
          "data": {
            "text/plain": [
              "<keras.callbacks.History at 0x7f7bf43b68b0>"
            ]
          },
          "metadata": {},
          "execution_count": 9
        }
      ]
    },
    {
      "cell_type": "code",
      "source": [
        "from sklearn import metrics\n",
        "#from sklearn.metrics import mean_squared_error\n",
        "from sklearn.metrics import classification_report, confusion_matrix\n",
        "\n",
        "# evaluate predictions from training\n",
        "Y_score_train = model.predict(X_train, verbose=0)\n",
        "Y_hat_train = np.argmax(Y_score_train, axis=-1)   # or... Y_hat_train = (Y_score_test > 0.5)\n",
        "print(\"Confusion matrix: \\n \\n\", confusion_matrix(Y_train, Y_hat_train))"
      ],
      "metadata": {
        "colab": {
          "base_uri": "https://localhost:8080/"
        },
        "id": "O1ADIN_mQpo-",
        "outputId": "b14b4caf-a50a-4beb-9bdb-f7c48cb92717"
      },
      "execution_count": 10,
      "outputs": [
        {
          "output_type": "stream",
          "name": "stdout",
          "text": [
            "Confusion matrix: \n",
            " \n",
            " [[779  28]\n",
            " [ 34 132]]\n"
          ]
        }
      ]
    },
    {
      "cell_type": "code",
      "source": [
        "# evaluate predictions from testing\n",
        "Y_score_test = model.predict(X_test, verbose=0)\n",
        "Y_hat_test = np.argmax(Y_score_test, axis=-1)   # or... Y_hat_test = (Y_score_test > 0.5)\n",
        "print(\"Confusion matrix: \\n \\n\", confusion_matrix(Y_test, Y_hat_test))"
      ],
      "metadata": {
        "colab": {
          "base_uri": "https://localhost:8080/"
        },
        "id": "aQ5QTAjjQzZe",
        "outputId": "96437671-bf97-446a-98e9-24c95ef1a579"
      },
      "execution_count": 11,
      "outputs": [
        {
          "output_type": "stream",
          "name": "stdout",
          "text": [
            "Confusion matrix: \n",
            " \n",
            " [[198  12]\n",
            " [  9  25]]\n"
          ]
        }
      ]
    },
    {
      "cell_type": "code",
      "source": [
        "import numpy as np\n",
        "#Y = np.array([0, 0, 0, 0, 0, 1, 1, 1, 1])\n",
        "#Yh = np.array([0, 0, 0, 1, 0, 1, 0, 1, 1])\n",
        "\n",
        "from sklearn.metrics import classification_report, accuracy_score, confusion_matrix\n",
        "# Prepare data (X, Y), build a model, and predict into Yh\n",
        "acc_score = accuracy_score(Y_train, Y_hat_train)\n",
        "\n",
        "print(\"\\n\", \"Accuracy: \".format(format(acc_score,'.3f')))\n",
        "print(\"\\n\", \"CFM: \\n\", confusion_matrix(Y_train, Y_hat_train))\n",
        "print(\"\\n\", \"Classification report: \\n\", classification_report(Y_train, Y_hat_train))"
      ],
      "metadata": {
        "colab": {
          "base_uri": "https://localhost:8080/"
        },
        "id": "5WGhiOuIRxzE",
        "outputId": "a963cd60-d13d-4703-c4db-729008631a8e"
      },
      "execution_count": 12,
      "outputs": [
        {
          "output_type": "stream",
          "name": "stdout",
          "text": [
            "\n",
            " Accuracy: \n",
            "\n",
            " CFM: \n",
            " [[779  28]\n",
            " [ 34 132]]\n",
            "\n",
            " Classification report: \n",
            "               precision    recall  f1-score   support\n",
            "\n",
            "           0       0.96      0.97      0.96       807\n",
            "           1       0.82      0.80      0.81       166\n",
            "\n",
            "    accuracy                           0.94       973\n",
            "   macro avg       0.89      0.88      0.89       973\n",
            "weighted avg       0.94      0.94      0.94       973\n",
            "\n"
          ]
        }
      ]
    },
    {
      "cell_type": "code",
      "source": [
        "import numpy as np\n",
        "import matplotlib.pyplot as plt\n",
        "from sklearn.metrics import roc_curve, auc\n",
        "\n",
        "# Example predictions and true labels\n",
        "#y_pred = np.array([0.2, 0.4, 0.6, 0.8, 0.9, 0.3])\n",
        "#y_true = np.array([0, 0, 1, 1, 1, 0])\n",
        "\n",
        "# Compute false positive rate, true positive rate and threshold values\n",
        "fpr, tpr, thresholds = roc_curve(Y_train, Y_hat_train)\n",
        "\n"
      ],
      "metadata": {
        "id": "lwYigrtvfg2j"
      },
      "execution_count": 16,
      "outputs": []
    },
    {
      "cell_type": "code",
      "source": [
        "# Compute the area under the ROC curve\n",
        "roc_auc = auc(fpr, tpr)\n",
        "\n",
        "\n"
      ],
      "metadata": {
        "id": "AZgTpAElgH2i"
      },
      "execution_count": 20,
      "outputs": []
    },
    {
      "cell_type": "code",
      "source": [
        "# Plot the ROC curve\n",
        "plt.plot(fpr, tpr, color='darkorange', label='ROC curve (area = %0.2f)' % roc_auc)\n",
        "plt.plot([0, 1], [0, 1], color='navy', linestyle='--')\n",
        "plt.xlim([0.0, 1.0])\n",
        "plt.ylim([0.0, 1.05])\n",
        "plt.xlabel('False Positive Rate')\n",
        "plt.ylabel('True Positive Rate')\n",
        "plt.title('ROC curve')\n",
        "plt.legend(loc=\"lower right\")\n",
        "plt.show()"
      ],
      "metadata": {
        "colab": {
          "base_uri": "https://localhost:8080/",
          "height": 295
        },
        "id": "4lH8CFv0gKNN",
        "outputId": "250f63de-433f-46de-b486-a883e9532d76"
      },
      "execution_count": 23,
      "outputs": [
        {
          "output_type": "display_data",
          "data": {
            "text/plain": [
              "<Figure size 432x288 with 1 Axes>"
            ],
            "image/png": "[encoded data removed]"
          },
          "metadata": {
            "needs_background": "light"
          }
        }
      ]
    },
    {
      "cell_type": "code",
      "source": [],
      "metadata": {
        "id": "okorVIO1iNEG"
      },
      "execution_count": 19,
      "outputs": []
    },
    {
      "cell_type": "code",
      "source": [],
      "metadata": {
        "id": "iKoqHlWRiN0G"
      },
      "execution_count": null,
      "outputs": []
    }
  ]
}