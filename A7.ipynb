{
  "nbformat": 4,
  "nbformat_minor": 0,
  "metadata": {
    "colab": {
      "provenance": [],
      "authorship_tag": "ABX9TyOR0GE4jpsQK9ogVeMaZDxn",
      "include_colab_link": true
    },
    "kernelspec": {
      "name": "python3",
      "display_name": "Python 3"
    },
    "language_info": {
      "name": "python"
    }
  },
  "cells": [
    {
      "cell_type": "markdown",
      "metadata": {
        "id": "view-in-github",
        "colab_type": "text"
      },
      "source": [
        "<a href=\"https://colab.research.google.com/github/segzy01/Oluwasegun-Durowoju-Prework/blob/master/A7.ipynb\" target=\"_parent\"><img src=\"https://colab.research.google.com/assets/colab-badge.svg\" alt=\"Open In Colab\"/></a>"
      ]
    },
    {
      "cell_type": "code",
      "execution_count": 2,
      "metadata": {
        "colab": {
          "base_uri": "https://localhost:8080/"
        },
        "id": "GKNQnBYLpwNm",
        "outputId": "573e1433-5410-4cbb-c47e-a8139ea7dae6"
      },
      "outputs": [
        {
          "output_type": "stream",
          "name": "stdout",
          "text": [
            "Mounted at /content/drive\n"
          ]
        }
      ],
      "source": [
        "# mount gdrive with this code\n",
        "from google.colab import drive\n",
        "drive.mount('/content/drive')\n",
        "#below where the file is in gdrive, change with yours\n",
        "data_path = \"/content/drive/My Drive/AI_764/\"\n",
        "###yearsBase, meanBase = np.loadtxt(data_path + 'file.csv', delimiter=',', unpack=True)"
      ]
    },
    {
      "cell_type": "code",
      "source": [
        "\n",
        "# import packages\n",
        "from tensorflow import keras\n",
        "from tensorflow.keras.models import Sequential\n",
        "from tensorflow.keras.layers import Activation, Dense, Dropout, Flatten, MaxPooling2D, BatchNormalization\n",
        "from tensorflow.keras.layers import Conv2D\n",
        "#from keras.layers import Convolution2D\n",
        "#from keras.layers.normalization import BatchNormalization\n",
        "from keras.preprocessing.image import ImageDataGenerator\n",
        "from sklearn.metrics import confusion_matrix\n",
        "from math import ceil\n",
        "import numpy as np"
      ],
      "metadata": {
        "id": "UCuZ4yN9xYFM"
      },
      "execution_count": 3,
      "outputs": []
    },
    {
      "cell_type": "code",
      "source": [
        "from IPython.display import display\n",
        "from PIL import Image"
      ],
      "metadata": {
        "id": "b06ajgQI0W62"
      },
      "execution_count": 4,
      "outputs": []
    },
    {
      "cell_type": "code",
      "source": [
        "batch_size = 10\n",
        "\n",
        "data = ImageDataGenerator(rescale=1. / 255, \n",
        "                          validation_split=0.2)\n",
        "\n",
        "training_data = data.flow_from_directory('/content/drive/MyDrive/Iris_Imgs/Iris_Imgs', \n",
        "                                         target_size=(200, 200), shuffle=True, batch_size = batch_size, \n",
        "                                         class_mode='categorical', subset='training')\n",
        "\n",
        "training_data_noshuffle = data.flow_from_directory('/content/drive/MyDrive/Iris_Imgs/Iris_Imgs', \n",
        "                                         target_size=(200, 200), shuffle=False, batch_size = batch_size, \n",
        "                                         class_mode='categorical', subset='training')\n",
        "\n",
        "test_data = data.flow_from_directory('/content/drive/MyDrive/Iris_Imgs/Iris_Imgs', \n",
        "                                     target_size=(200, 200), batch_size = batch_size, shuffle=False,\n",
        "                                     class_mode='categorical', subset='validation')\n",
        "\n",
        "numClasses = 3"
      ],
      "metadata": {
        "colab": {
          "base_uri": "https://localhost:8080/"
        },
        "id": "smMNAxjH0ZoA",
        "outputId": "8148466f-5fd1-4376-c5c8-88a58b179394"
      },
      "execution_count": 11,
      "outputs": [
        {
          "output_type": "stream",
          "name": "stdout",
          "text": [
            "Found 120 images belonging to 3 classes.\n",
            "Found 120 images belonging to 3 classes.\n",
            "Found 30 images belonging to 3 classes.\n"
          ]
        }
      ]
    },
    {
      "cell_type": "markdown",
      "source": [
        "# Achitectural Model"
      ],
      "metadata": {
        "id": "SEbO1OwQCd1q"
      }
    },
    {
      "cell_type": "code",
      "source": [
        "\n",
        "\n",
        "Classifier=Sequential()\n",
        "Classifier.add(Conv2D(64, kernel_size=(5, 5), input_shape=(200, 200, 3)))\n",
        "Classifier.add(BatchNormalization())\n",
        "Classifier.add(Activation('relu'))\n",
        "Classifier.add(MaxPooling2D(pool_size=(2,2)))\n",
        "Classifier.add(Dropout(0.2))\n",
        "               \n",
        "Classifier.add(Conv2D(32, kernel_size=(3, 3)))\n",
        "Classifier.add(BatchNormalization())\n",
        "Classifier.add(Activation('relu'))\n",
        "Classifier.add(MaxPooling2D(pool_size=(2,2)))\n",
        "Classifier.add(Dropout(0.2))\n",
        "\n",
        "Classifier.add(Flatten())\n",
        "\n",
        "Classifier.add(Dense(64, activation='relu'))\n",
        "Classifier.add(Dense(32, activation='relu'))\n",
        "Classifier.add(Dense(16, activation='relu'))\n",
        "Classifier.add(Dense(8, activation='relu'))\n",
        "Classifier.add(Dense(numClasses, activation='softmax'))"
      ],
      "metadata": {
        "id": "Uhf4nDmD7tlk"
      },
      "execution_count": 12,
      "outputs": []
    },
    {
      "cell_type": "code",
      "source": [],
      "metadata": {
        "id": "pSK2sPkeCTf5"
      },
      "execution_count": null,
      "outputs": []
    },
    {
      "cell_type": "code",
      "metadata": {
        "id": "PRJV3t-qOYGH",
        "colab": {
          "base_uri": "https://localhost:8080/"
        },
        "outputId": "0933ab48-67d3-4b11-bbcb-6ea8c7c8051f"
      },
      "source": [
        "# More options in Compiling and Training CNN\n",
        "MyEpochs = 30\n",
        "opt = keras.optimizers.Adam(learning_rate=0.01)\n",
        "opt = keras.optimizers.SGD(learning_rate=0.001, momentum=0.9)\n",
        "\n",
        "Classifier.compile(loss=keras.losses.categorical_crossentropy,\n",
        "              optimizer=opt, \n",
        "              metrics=['accuracy']) \n",
        "\n",
        "Classifier.fit(training_data,\n",
        "                        batch_size = 10,\n",
        "                        epochs = MyEpochs,\n",
        "                        validation_data=test_data,\n",
        "                        shuffle = 1)"
      ],
      "execution_count": 13,
      "outputs": [
        {
          "output_type": "stream",
          "name": "stdout",
          "text": [
            "Epoch 1/30\n",
            "12/12 [==============================] - 37s 3s/step - loss: 0.9380 - accuracy: 0.7000 - val_loss: 0.8056 - val_accuracy: 0.7000\n",
            "Epoch 2/30\n",
            "12/12 [==============================] - 26s 2s/step - loss: 0.4762 - accuracy: 0.8750 - val_loss: 0.6986 - val_accuracy: 0.7667\n",
            "Epoch 3/30\n",
            "12/12 [==============================] - 28s 2s/step - loss: 0.4120 - accuracy: 0.8333 - val_loss: 0.6813 - val_accuracy: 0.8667\n",
            "Epoch 4/30\n",
            "12/12 [==============================] - 24s 2s/step - loss: 0.2664 - accuracy: 0.9167 - val_loss: 0.7317 - val_accuracy: 0.8333\n",
            "Epoch 5/30\n",
            "12/12 [==============================] - 25s 2s/step - loss: 0.3468 - accuracy: 0.8417 - val_loss: 0.6666 - val_accuracy: 0.8667\n",
            "Epoch 6/30\n",
            "12/12 [==============================] - 25s 2s/step - loss: 0.3248 - accuracy: 0.9167 - val_loss: 0.7179 - val_accuracy: 0.6000\n",
            "Epoch 7/30\n",
            "12/12 [==============================] - 24s 2s/step - loss: 0.3780 - accuracy: 0.8917 - val_loss: 0.7617 - val_accuracy: 0.8333\n",
            "Epoch 8/30\n",
            "12/12 [==============================] - 25s 2s/step - loss: 0.2132 - accuracy: 0.9250 - val_loss: 0.9722 - val_accuracy: 0.6000\n",
            "Epoch 9/30\n",
            "12/12 [==============================] - 25s 2s/step - loss: 0.3119 - accuracy: 0.9083 - val_loss: 0.6216 - val_accuracy: 0.8333\n",
            "Epoch 10/30\n",
            "12/12 [==============================] - 27s 2s/step - loss: 0.4438 - accuracy: 0.8833 - val_loss: 1.0712 - val_accuracy: 0.5000\n",
            "Epoch 11/30\n",
            "12/12 [==============================] - 25s 2s/step - loss: 0.3394 - accuracy: 0.8500 - val_loss: 0.9012 - val_accuracy: 0.5667\n",
            "Epoch 12/30\n",
            "12/12 [==============================] - 24s 2s/step - loss: 0.2529 - accuracy: 0.9000 - val_loss: 1.0654 - val_accuracy: 0.3333\n",
            "Epoch 13/30\n",
            "12/12 [==============================] - 24s 2s/step - loss: 0.2155 - accuracy: 0.9333 - val_loss: 1.0186 - val_accuracy: 0.5000\n",
            "Epoch 14/30\n",
            "12/12 [==============================] - 25s 2s/step - loss: 0.2679 - accuracy: 0.9167 - val_loss: 0.8175 - val_accuracy: 0.5667\n",
            "Epoch 15/30\n",
            "12/12 [==============================] - 24s 2s/step - loss: 0.2391 - accuracy: 0.8917 - val_loss: 0.9800 - val_accuracy: 0.5000\n",
            "Epoch 16/30\n",
            "12/12 [==============================] - 26s 2s/step - loss: 0.1806 - accuracy: 0.9000 - val_loss: 0.9598 - val_accuracy: 0.3333\n",
            "Epoch 17/30\n",
            "12/12 [==============================] - 26s 2s/step - loss: 0.1855 - accuracy: 0.9333 - val_loss: 0.8499 - val_accuracy: 0.4667\n",
            "Epoch 18/30\n",
            "12/12 [==============================] - 23s 2s/step - loss: 0.2113 - accuracy: 0.9083 - val_loss: 0.9075 - val_accuracy: 0.4333\n",
            "Epoch 19/30\n",
            "12/12 [==============================] - 23s 2s/step - loss: 0.1516 - accuracy: 0.9417 - val_loss: 0.6655 - val_accuracy: 0.7000\n",
            "Epoch 20/30\n",
            "12/12 [==============================] - 24s 2s/step - loss: 0.1722 - accuracy: 0.9250 - val_loss: 0.6365 - val_accuracy: 0.7333\n",
            "Epoch 21/30\n",
            "12/12 [==============================] - 25s 2s/step - loss: 0.1179 - accuracy: 0.9583 - val_loss: 0.7870 - val_accuracy: 0.6333\n",
            "Epoch 22/30\n",
            "12/12 [==============================] - 25s 2s/step - loss: 0.1166 - accuracy: 0.9500 - val_loss: 0.7812 - val_accuracy: 0.6000\n",
            "Epoch 23/30\n",
            "12/12 [==============================] - 25s 2s/step - loss: 0.1570 - accuracy: 0.9333 - val_loss: 0.6149 - val_accuracy: 0.6667\n",
            "Epoch 24/30\n",
            "12/12 [==============================] - 24s 2s/step - loss: 0.1642 - accuracy: 0.9250 - val_loss: 0.5495 - val_accuracy: 0.7333\n",
            "Epoch 25/30\n",
            "12/12 [==============================] - 25s 2s/step - loss: 0.1378 - accuracy: 0.9333 - val_loss: 0.4047 - val_accuracy: 0.8667\n",
            "Epoch 26/30\n",
            "12/12 [==============================] - 26s 2s/step - loss: 0.1968 - accuracy: 0.9167 - val_loss: 0.6337 - val_accuracy: 0.6000\n",
            "Epoch 27/30\n",
            "12/12 [==============================] - 24s 2s/step - loss: 0.1833 - accuracy: 0.9000 - val_loss: 0.3829 - val_accuracy: 0.7667\n",
            "Epoch 28/30\n",
            "12/12 [==============================] - 24s 2s/step - loss: 0.1448 - accuracy: 0.9167 - val_loss: 0.3757 - val_accuracy: 0.9000\n",
            "Epoch 29/30\n",
            "12/12 [==============================] - 24s 2s/step - loss: 0.1391 - accuracy: 0.9500 - val_loss: 0.2070 - val_accuracy: 0.9333\n",
            "Epoch 30/30\n",
            "12/12 [==============================] - 23s 2s/step - loss: 0.1054 - accuracy: 0.9333 - val_loss: 0.1675 - val_accuracy: 0.9333\n"
          ]
        },
        {
          "output_type": "execute_result",
          "data": {
            "text/plain": [
              "<keras.callbacks.History at 0x7fae68b71880>"
            ]
          },
          "metadata": {},
          "execution_count": 13
        }
      ]
    },
    {
      "cell_type": "code",
      "source": [
        "Classifier.summary()"
      ],
      "metadata": {
        "colab": {
          "base_uri": "https://localhost:8080/"
        },
        "id": "2Fep0yEWCvxu",
        "outputId": "6f368f0a-92e8-4b72-d88f-b9b241fdf092"
      },
      "execution_count": 14,
      "outputs": [
        {
          "output_type": "stream",
          "name": "stdout",
          "text": [
            "Model: \"sequential\"\n",
            "_________________________________________________________________\n",
            " Layer (type)                Output Shape              Param #   \n",
            "=================================================================\n",
            " conv2d (Conv2D)             (None, 196, 196, 64)      4864      \n",
            "                                                                 \n",
            " batch_normalization (BatchN  (None, 196, 196, 64)     256       \n",
            " ormalization)                                                   \n",
            "                                                                 \n",
            " activation (Activation)     (None, 196, 196, 64)      0         \n",
            "                                                                 \n",
            " max_pooling2d (MaxPooling2D  (None, 98, 98, 64)       0         \n",
            " )                                                               \n",
            "                                                                 \n",
            " dropout (Dropout)           (None, 98, 98, 64)        0         \n",
            "                                                                 \n",
            " conv2d_1 (Conv2D)           (None, 96, 96, 32)        18464     \n",
            "                                                                 \n",
            " batch_normalization_1 (Batc  (None, 96, 96, 32)       128       \n",
            " hNormalization)                                                 \n",
            "                                                                 \n",
            " activation_1 (Activation)   (None, 96, 96, 32)        0         \n",
            "                                                                 \n",
            " max_pooling2d_1 (MaxPooling  (None, 48, 48, 32)       0         \n",
            " 2D)                                                             \n",
            "                                                                 \n",
            " dropout_1 (Dropout)         (None, 48, 48, 32)        0         \n",
            "                                                                 \n",
            " flatten (Flatten)           (None, 73728)             0         \n",
            "                                                                 \n",
            " dense (Dense)               (None, 64)                4718656   \n",
            "                                                                 \n",
            " dense_1 (Dense)             (None, 32)                2080      \n",
            "                                                                 \n",
            " dense_2 (Dense)             (None, 16)                528       \n",
            "                                                                 \n",
            " dense_3 (Dense)             (None, 8)                 136       \n",
            "                                                                 \n",
            " dense_4 (Dense)             (None, 3)                 27        \n",
            "                                                                 \n",
            "=================================================================\n",
            "Total params: 4,745,139\n",
            "Trainable params: 4,744,947\n",
            "Non-trainable params: 192\n",
            "_________________________________________________________________\n"
          ]
        }
      ]
    },
    {
      "cell_type": "markdown",
      "source": [
        "##Classification Results\n"
      ],
      "metadata": {
        "id": "NeLIRYBuMMBu"
      }
    },
    {
      "cell_type": "code",
      "source": [
        "import seaborn as sns\n",
        "from sklearn.metrics import confusion_matrix\n",
        "from sklearn.metrics import accuracy_score\n",
        "from sklearn.metrics import classification_report"
      ],
      "metadata": {
        "id": "rK8plEULL1Hl"
      },
      "execution_count": 15,
      "outputs": []
    },
    {
      "cell_type": "code",
      "source": [
        "training_data.reset()\n",
        "test_data.reset()\n",
        "\n",
        "predicted_scores = Classifier.predict(training_data_noshuffle, verbose=1)\n",
        "predicted_labels = predicted_scores.argmax(axis=1) \n",
        "\n",
        "train_labels = training_data_noshuffle.labels\n",
        "\n",
        "print(train_labels)\n",
        "print(predicted_labels)\n",
        "\n",
        "acc_score = accuracy_score(train_labels, predicted_labels)\n",
        "CFM = confusion_matrix(train_labels, predicted_labels)\n",
        "\n",
        "print(\"\\n\", \"Accuracy: \" + str(format(acc_score,'.3f')))\n",
        "print(\"\\n\", \"CFM: \\n\", confusion_matrix(train_labels, predicted_labels))\n",
        "print(\"\\n\", \"Classification report: \\n\", classification_report(train_labels, predicted_labels))"
      ],
      "metadata": {
        "colab": {
          "base_uri": "https://localhost:8080/"
        },
        "id": "YrMTOl3lMK1F",
        "outputId": "93ebd5d5-bd92-44ea-ff7a-67c249467350"
      },
      "execution_count": 16,
      "outputs": [
        {
          "output_type": "stream",
          "name": "stdout",
          "text": [
            "12/12 [==============================] - 13s 1s/step\n",
            "[0 0 0 0 0 0 0 0 0 0 0 0 0 0 0 0 0 0 0 0 0 0 0 0 0 0 0 0 0 0 0 0 0 0 0 0 0\n",
            " 0 0 0 1 1 1 1 1 1 1 1 1 1 1 1 1 1 1 1 1 1 1 1 1 1 1 1 1 1 1 1 1 1 1 1 1 1\n",
            " 1 1 1 1 1 1 2 2 2 2 2 2 2 2 2 2 2 2 2 2 2 2 2 2 2 2 2 2 2 2 2 2 2 2 2 2 2\n",
            " 2 2 2 2 2 2 2 2 2]\n",
            "[0 1 0 0 0 0 0 0 1 0 0 0 0 0 0 0 0 0 0 0 0 0 0 0 0 0 1 0 0 0 1 0 0 0 0 0 0\n",
            " 0 0 1 1 1 1 1 1 1 1 1 1 1 1 1 1 1 1 1 1 1 1 1 1 1 1 1 1 1 1 1 1 1 1 1 1 1\n",
            " 1 1 1 1 1 1 1 2 2 2 2 2 2 2 2 1 2 2 2 1 2 2 1 1 2 2 2 2 2 1 2 2 2 2 1 2 2\n",
            " 2 2 2 2 2 2 2 2 1]\n",
            "\n",
            " Accuracy: 0.892\n",
            "\n",
            " CFM: \n",
            " [[35  5  0]\n",
            " [ 0 40  0]\n",
            " [ 0  8 32]]\n",
            "\n",
            " Classification report: \n",
            "               precision    recall  f1-score   support\n",
            "\n",
            "           0       1.00      0.88      0.93        40\n",
            "           1       0.75      1.00      0.86        40\n",
            "           2       1.00      0.80      0.89        40\n",
            "\n",
            "    accuracy                           0.89       120\n",
            "   macro avg       0.92      0.89      0.89       120\n",
            "weighted avg       0.92      0.89      0.89       120\n",
            "\n"
          ]
        }
      ]
    },
    {
      "cell_type": "code",
      "source": [
        "predicted_scores = Classifier.predict(test_data, verbose=1)\n",
        "predicted_labels = predicted_scores.argmax(axis=1) "
      ],
      "metadata": {
        "colab": {
          "base_uri": "https://localhost:8080/"
        },
        "id": "qYRUc8A0MUIZ",
        "outputId": "79ad091a-9714-4d75-a7d5-3f3d874e8c8c"
      },
      "execution_count": 17,
      "outputs": [
        {
          "output_type": "stream",
          "name": "stdout",
          "text": [
            "3/3 [==============================] - 3s 783ms/step\n"
          ]
        }
      ]
    },
    {
      "cell_type": "code",
      "source": [],
      "metadata": {
        "id": "K9Q2UNI1MwO_"
      },
      "execution_count": null,
      "outputs": []
    },
    {
      "cell_type": "code",
      "metadata": {
        "colab": {
          "base_uri": "https://localhost:8080/"
        },
        "id": "SDZS521DflB7",
        "outputId": "4d4df062-1fc6-4793-eead-98d1f1903f31"
      },
      "source": [
        "test_labels = test_data.labels\n",
        "print(test_labels)\n",
        "#print(predicted_scores)\n",
        "print(predicted_labels)"
      ],
      "execution_count": 19,
      "outputs": [
        {
          "output_type": "stream",
          "name": "stdout",
          "text": [
            "[0 0 0 0 0 0 0 0 0 0 1 1 1 1 1 1 1 1 1 1 2 2 2 2 2 2 2 2 2 2]\n",
            "[0 0 0 0 1 0 0 0 0 0 1 1 1 1 1 1 1 1 1 1 2 2 2 2 2 2 1 2 2 2]\n"
          ]
        }
      ]
    },
    {
      "cell_type": "code",
      "source": [
        "acc_score = accuracy_score(test_labels, predicted_labels)\n",
        "CFM = confusion_matrix(test_labels, predicted_labels)\n",
        "\n",
        "print(\"\\n\", \"Accuracy: \" + str(format(acc_score,'.3f')))\n",
        "print(\"\\n\", \"CFM: \\n\", confusion_matrix(test_labels, predicted_labels))\n",
        "print(\"\\n\", \"Classification report: \\n\", classification_report(test_labels, predicted_labels))\n"
      ],
      "metadata": {
        "colab": {
          "base_uri": "https://localhost:8080/"
        },
        "id": "w38UbtmOOQBP",
        "outputId": "cff90a55-6e4b-48c4-be9f-ee884117fc2e"
      },
      "execution_count": 20,
      "outputs": [
        {
          "output_type": "stream",
          "name": "stdout",
          "text": [
            "\n",
            " Accuracy: 0.933\n",
            "\n",
            " CFM: \n",
            " [[ 9  1  0]\n",
            " [ 0 10  0]\n",
            " [ 0  1  9]]\n",
            "\n",
            " Classification report: \n",
            "               precision    recall  f1-score   support\n",
            "\n",
            "           0       1.00      0.90      0.95        10\n",
            "           1       0.83      1.00      0.91        10\n",
            "           2       1.00      0.90      0.95        10\n",
            "\n",
            "    accuracy                           0.93        30\n",
            "   macro avg       0.94      0.93      0.93        30\n",
            "weighted avg       0.94      0.93      0.93        30\n",
            "\n"
          ]
        }
      ]
    },
    {
      "cell_type": "code",
      "source": [
        "matrix=sns.heatmap(CFM, linewidths=1,vmax=1000,\n",
        "                  square=True, cmap=\"Blues\",annot=True)\n",
        "accuracy_score=accuracy_score(test_labels, predicted_labels)\n",
        "print('test dataset accuracy:',accuracy_score)"
      ],
      "metadata": {
        "colab": {
          "base_uri": "https://localhost:8080/",
          "height": 287
        },
        "id": "kLlx9pWmORIr",
        "outputId": "1a11e82c-8a87-4513-9dbb-787945f3d8a9"
      },
      "execution_count": 21,
      "outputs": [
        {
          "output_type": "stream",
          "name": "stdout",
          "text": [
            "test dataset accuracy: 0.9333333333333333\n"
          ]
        },
        {
          "output_type": "display_data",
          "data": {
            "text/plain": [
              "<Figure size 432x288 with 2 Axes>"
            ],
            "image/png": "[encoded data removed]"
          },
          "metadata": {
            "needs_background": "light"
          }
        }
      ]
    },
    {
      "cell_type": "code",
      "source": [],
      "metadata": {
        "id": "HWRxkfPrO5RM"
      },
      "execution_count": null,
      "outputs": []
    }
  ]
}