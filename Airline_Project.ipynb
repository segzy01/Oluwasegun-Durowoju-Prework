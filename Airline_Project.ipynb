{
  "cells": [
    {
      "cell_type": "markdown",
      "metadata": {
        "id": "view-in-github",
        "colab_type": "text"
      },
      "source": [
        "<a href=\"https://colab.research.google.com/github/segzy01/Oluwasegun-Durowoju-Prework/blob/master/Airline_Project.ipynb\" target=\"_parent\"><img src=\"https://colab.research.google.com/assets/colab-badge.svg\" alt=\"Open In Colab\"/></a>"
      ]
    },
    {
      "cell_type": "code",
      "execution_count": null,
      "metadata": {
        "id": "E3kZ-gkZpD1R"
      },
      "outputs": [],
      "source": [
        "import pandas as pd\n",
        "import numpy as np\n",
        "import os\n",
        "import matplotlib\n",
        "import matplotlib.pyplot as plt\n",
        "import sklearn"
      ]
    },
    {
      "cell_type": "code",
      "execution_count": null,
      "metadata": {
        "id": "1sCRv8wgpD1X",
        "outputId": "f311da24-05f6-4d22-f7a6-ffb5edf829ab"
      },
      "outputs": [
        {
          "data": {
            "text/html": [
              "<div>\n",
              "<style scoped>\n",
              "    .dataframe tbody tr th:only-of-type {\n",
              "        vertical-align: middle;\n",
              "    }\n",
              "\n",
              "    .dataframe tbody tr th {\n",
              "        vertical-align: top;\n",
              "    }\n",
              "\n",
              "    .dataframe thead th {\n",
              "        text-align: right;\n",
              "    }\n",
              "</style>\n",
              "<table border=\"1\" class=\"dataframe\">\n",
              "  <thead>\n",
              "    <tr style=\"text-align: right;\">\n",
              "      <th></th>\n",
              "      <th>Unnamed: 0</th>\n",
              "      <th>id</th>\n",
              "      <th>Gender</th>\n",
              "      <th>Customer Type</th>\n",
              "      <th>Age</th>\n",
              "      <th>Type of Travel</th>\n",
              "      <th>Class</th>\n",
              "      <th>Flight Distance</th>\n",
              "      <th>Inflight wifi service</th>\n",
              "      <th>Departure/Arrival time convenient</th>\n",
              "      <th>...</th>\n",
              "      <th>Inflight entertainment</th>\n",
              "      <th>On-board service</th>\n",
              "      <th>Leg room service</th>\n",
              "      <th>Baggage handling</th>\n",
              "      <th>Checkin service</th>\n",
              "      <th>Inflight service</th>\n",
              "      <th>Cleanliness</th>\n",
              "      <th>Departure Delay in Minutes</th>\n",
              "      <th>Arrival Delay in Minutes</th>\n",
              "      <th>Buy ticket in future</th>\n",
              "    </tr>\n",
              "  </thead>\n",
              "  <tbody>\n",
              "    <tr>\n",
              "      <th>0</th>\n",
              "      <td>0</td>\n",
              "      <td>70172</td>\n",
              "      <td>Male</td>\n",
              "      <td>Loyal Customer</td>\n",
              "      <td>13</td>\n",
              "      <td>Personal Travel</td>\n",
              "      <td>Eco Plus</td>\n",
              "      <td>460</td>\n",
              "      <td>3</td>\n",
              "      <td>4</td>\n",
              "      <td>...</td>\n",
              "      <td>5</td>\n",
              "      <td>4</td>\n",
              "      <td>3</td>\n",
              "      <td>4</td>\n",
              "      <td>4</td>\n",
              "      <td>5</td>\n",
              "      <td>5</td>\n",
              "      <td>25</td>\n",
              "      <td>18.0</td>\n",
              "      <td>No</td>\n",
              "    </tr>\n",
              "    <tr>\n",
              "      <th>1</th>\n",
              "      <td>1</td>\n",
              "      <td>5047</td>\n",
              "      <td>Male</td>\n",
              "      <td>disloyal Customer</td>\n",
              "      <td>25</td>\n",
              "      <td>Business travel</td>\n",
              "      <td>Business</td>\n",
              "      <td>235</td>\n",
              "      <td>3</td>\n",
              "      <td>2</td>\n",
              "      <td>...</td>\n",
              "      <td>1</td>\n",
              "      <td>1</td>\n",
              "      <td>5</td>\n",
              "      <td>3</td>\n",
              "      <td>1</td>\n",
              "      <td>4</td>\n",
              "      <td>1</td>\n",
              "      <td>1</td>\n",
              "      <td>6.0</td>\n",
              "      <td>No</td>\n",
              "    </tr>\n",
              "    <tr>\n",
              "      <th>2</th>\n",
              "      <td>2</td>\n",
              "      <td>110028</td>\n",
              "      <td>Female</td>\n",
              "      <td>Loyal Customer</td>\n",
              "      <td>26</td>\n",
              "      <td>Business travel</td>\n",
              "      <td>Business</td>\n",
              "      <td>1142</td>\n",
              "      <td>2</td>\n",
              "      <td>2</td>\n",
              "      <td>...</td>\n",
              "      <td>5</td>\n",
              "      <td>4</td>\n",
              "      <td>3</td>\n",
              "      <td>4</td>\n",
              "      <td>4</td>\n",
              "      <td>4</td>\n",
              "      <td>5</td>\n",
              "      <td>0</td>\n",
              "      <td>0.0</td>\n",
              "      <td>Yes</td>\n",
              "    </tr>\n",
              "    <tr>\n",
              "      <th>3</th>\n",
              "      <td>3</td>\n",
              "      <td>24026</td>\n",
              "      <td>Female</td>\n",
              "      <td>Loyal Customer</td>\n",
              "      <td>25</td>\n",
              "      <td>Business travel</td>\n",
              "      <td>Business</td>\n",
              "      <td>562</td>\n",
              "      <td>2</td>\n",
              "      <td>5</td>\n",
              "      <td>...</td>\n",
              "      <td>2</td>\n",
              "      <td>2</td>\n",
              "      <td>5</td>\n",
              "      <td>3</td>\n",
              "      <td>1</td>\n",
              "      <td>4</td>\n",
              "      <td>2</td>\n",
              "      <td>11</td>\n",
              "      <td>9.0</td>\n",
              "      <td>No</td>\n",
              "    </tr>\n",
              "    <tr>\n",
              "      <th>4</th>\n",
              "      <td>4</td>\n",
              "      <td>119299</td>\n",
              "      <td>Male</td>\n",
              "      <td>Loyal Customer</td>\n",
              "      <td>61</td>\n",
              "      <td>Business travel</td>\n",
              "      <td>Business</td>\n",
              "      <td>214</td>\n",
              "      <td>3</td>\n",
              "      <td>3</td>\n",
              "      <td>...</td>\n",
              "      <td>3</td>\n",
              "      <td>3</td>\n",
              "      <td>4</td>\n",
              "      <td>4</td>\n",
              "      <td>3</td>\n",
              "      <td>3</td>\n",
              "      <td>3</td>\n",
              "      <td>0</td>\n",
              "      <td>0.0</td>\n",
              "      <td>Yes</td>\n",
              "    </tr>\n",
              "  </tbody>\n",
              "</table>\n",
              "<p>5 rows × 25 columns</p>\n",
              "</div>"
            ],
            "text/plain": [
              "   Unnamed: 0      id  Gender      Customer Type  Age   Type of Travel  \\\n",
              "0           0   70172    Male     Loyal Customer   13  Personal Travel   \n",
              "1           1    5047    Male  disloyal Customer   25  Business travel   \n",
              "2           2  110028  Female     Loyal Customer   26  Business travel   \n",
              "3           3   24026  Female     Loyal Customer   25  Business travel   \n",
              "4           4  119299    Male     Loyal Customer   61  Business travel   \n",
              "\n",
              "      Class  Flight Distance  Inflight wifi service  \\\n",
              "0  Eco Plus              460                      3   \n",
              "1  Business              235                      3   \n",
              "2  Business             1142                      2   \n",
              "3  Business              562                      2   \n",
              "4  Business              214                      3   \n",
              "\n",
              "   Departure/Arrival time convenient  ...  Inflight entertainment  \\\n",
              "0                                  4  ...                       5   \n",
              "1                                  2  ...                       1   \n",
              "2                                  2  ...                       5   \n",
              "3                                  5  ...                       2   \n",
              "4                                  3  ...                       3   \n",
              "\n",
              "   On-board service  Leg room service  Baggage handling  Checkin service  \\\n",
              "0                 4                 3                 4                4   \n",
              "1                 1                 5                 3                1   \n",
              "2                 4                 3                 4                4   \n",
              "3                 2                 5                 3                1   \n",
              "4                 3                 4                 4                3   \n",
              "\n",
              "   Inflight service  Cleanliness  Departure Delay in Minutes  \\\n",
              "0                 5            5                          25   \n",
              "1                 4            1                           1   \n",
              "2                 4            5                           0   \n",
              "3                 4            2                          11   \n",
              "4                 3            3                           0   \n",
              "\n",
              "   Arrival Delay in Minutes  Buy ticket in future  \n",
              "0                      18.0                    No  \n",
              "1                       6.0                    No  \n",
              "2                       0.0                   Yes  \n",
              "3                       9.0                    No  \n",
              "4                       0.0                   Yes  \n",
              "\n",
              "[5 rows x 25 columns]"
            ]
          },
          "execution_count": 2,
          "metadata": {},
          "output_type": "execute_result"
        }
      ],
      "source": [
        "dataset = pd.read_csv('project_dataset_copy.csv')\n",
        "dataset.head(n=5)"
      ]
    },
    {
      "cell_type": "code",
      "execution_count": null,
      "metadata": {
        "id": "9fL-vQ5fpD1Y",
        "outputId": "2171fd85-38e8-4348-b3a8-bc6245ffa0d7"
      },
      "outputs": [
        {
          "name": "stdout",
          "output_type": "stream",
          "text": [
            "<class 'pandas.core.frame.DataFrame'>\n",
            "RangeIndex: 103904 entries, 0 to 103903\n",
            "Data columns (total 25 columns):\n",
            " #   Column                             Non-Null Count   Dtype  \n",
            "---  ------                             --------------   -----  \n",
            " 0   Unnamed: 0                         103904 non-null  int64  \n",
            " 1   id                                 103904 non-null  int64  \n",
            " 2   Gender                             103904 non-null  object \n",
            " 3   Customer Type                      103904 non-null  object \n",
            " 4   Age                                103904 non-null  int64  \n",
            " 5   Type of Travel                     103904 non-null  object \n",
            " 6   Class                              103904 non-null  object \n",
            " 7   Flight Distance                    103904 non-null  int64  \n",
            " 8   Inflight wifi service              103904 non-null  int64  \n",
            " 9   Departure/Arrival time convenient  103904 non-null  int64  \n",
            " 10  Ease of Online booking             103904 non-null  int64  \n",
            " 11  Gate location                      103904 non-null  int64  \n",
            " 12  Food and drink                     103904 non-null  int64  \n",
            " 13  Online boarding                    103904 non-null  int64  \n",
            " 14  Seat comfort                       103904 non-null  int64  \n",
            " 15  Inflight entertainment             103904 non-null  int64  \n",
            " 16  On-board service                   103904 non-null  int64  \n",
            " 17  Leg room service                   103904 non-null  int64  \n",
            " 18  Baggage handling                   103904 non-null  int64  \n",
            " 19  Checkin service                    103904 non-null  int64  \n",
            " 20  Inflight service                   103904 non-null  int64  \n",
            " 21  Cleanliness                        103904 non-null  int64  \n",
            " 22  Departure Delay in Minutes         103904 non-null  int64  \n",
            " 23  Arrival Delay in Minutes           103594 non-null  float64\n",
            " 24  Buy ticket in future               103904 non-null  object \n",
            "dtypes: float64(1), int64(19), object(5)\n",
            "memory usage: 19.8+ MB\n"
          ]
        }
      ],
      "source": [
        "dataset.info()"
      ]
    },
    {
      "cell_type": "code",
      "execution_count": null,
      "metadata": {
        "id": "x1Qx-vUVpD1Z",
        "outputId": "45ac85cb-274d-4c97-be65-4b6b8d2eb823"
      },
      "outputs": [
        {
          "data": {
            "image/png": "[encoded data removed]",
            "text/plain": [
              "<Figure size 432x288 with 1 Axes>"
            ]
          },
          "metadata": {
            "needs_background": "light"
          },
          "output_type": "display_data"
        }
      ],
      "source": [
        "import seaborn as sns\n",
        "sns.countplot(dataset['Buy ticket in future'])\n",
        "plt.show()"
      ]
    },
    {
      "cell_type": "code",
      "execution_count": null,
      "metadata": {
        "id": "VaN1SoN-pD1Z",
        "outputId": "705b0be9-33d1-4372-f2ec-0ff9882168a8"
      },
      "outputs": [
        {
          "data": {
            "image/png": "[encoded data removed]",
            "text/plain": [
              "<Figure size 1440x1080 with 20 Axes>"
            ]
          },
          "metadata": {
            "needs_background": "light"
          },
          "output_type": "display_data"
        }
      ],
      "source": [
        "import pylab as pl\n",
        "dataset.drop(['id', 'Customer Type', 'Type of Travel', 'Class', 'Buy ticket in future', ],\n",
        "            axis = 1).hist(bins = 50, figsize = (20,15))\n",
        "pl.suptitle(\"Histogram for input variables\")\n",
        "plt.savefig('data_histogram')\n",
        "plt.show()\n"
      ]
    },
    {
      "cell_type": "code",
      "execution_count": null,
      "metadata": {
        "id": "VYbgul2mpD1Z",
        "outputId": "5f8cbdbe-40e6-48bf-d3ed-0f2621dbfa4f"
      },
      "outputs": [
        {
          "data": {
            "image/png": "[encoded data removed]",
            "text/plain": [
              "<Figure size 1440x1080 with 20 Axes>"
            ]
          },
          "metadata": {
            "needs_background": "light"
          },
          "output_type": "display_data"
        }
      ],
      "source": [
        "import pylab as pl\n",
        "dataset.drop(['id', 'Customer Type', 'Type of Travel', 'Class', 'Buy ticket in future', ],\n",
        "            axis = 1).hist(bins = 50, figsize = (20,15))\n",
        "pl.suptitle(\"Histogram for input variables\")\n",
        "plt.savefig('data_histogram')\n",
        "plt.show()"
      ]
    },
    {
      "cell_type": "code",
      "execution_count": null,
      "metadata": {
        "id": "n2japUJTpD1a"
      },
      "outputs": [],
      "source": [
        "def gender_transform(x):\n",
        "    if x == 'Female':\n",
        "        return 1\n",
        "    elif x == 'Male':\n",
        "        return 0\n",
        "    else:\n",
        "        return -1\n",
        "\n"
      ]
    },
    {
      "cell_type": "code",
      "execution_count": null,
      "metadata": {
        "id": "5ew0zWb_pD1b"
      },
      "outputs": [],
      "source": [
        "def class_transform(x):\n",
        "    if x == 'Business':\n",
        "        return 2\n",
        "    elif x == 'Eco Plus':\n",
        "        return 1\n",
        "    elif x == 'Eco':\n",
        "        return 0\n",
        "    else:\n",
        "        return -1\n"
      ]
    },
    {
      "cell_type": "code",
      "execution_count": null,
      "metadata": {
        "id": "hj7BarhapD1b"
      },
      "outputs": [],
      "source": [
        "def buy_ticket_transform(x):\n",
        "    if x == 'Yes':\n",
        "        return 1\n",
        "    elif x == 'No':\n",
        "        return 0\n",
        "    else:\n",
        "        return -1"
      ]
    },
    {
      "cell_type": "code",
      "execution_count": null,
      "metadata": {
        "id": "I8tyayXXpD1b"
      },
      "outputs": [],
      "source": [
        "def transform_data(data):\n",
        "    data = data.drop(['Unnamed: 0', 'id', 'Customer Type', 'Type of Travel',\n",
        "                     'Departure/Arrival time convenient', 'Gate location', 'Leg room service'], axis = 1)\n",
        "    data['Gender'] = data['Gender'].apply(gender_transform)\n",
        "    data['Buy ticket in future'] = data['Buy ticket in future'].apply(buy_ticket_transform)\n",
        "    data['Class'] = data['Class'].apply(class_transform)\n",
        "    data['Arrival Delay in Minutes'].fillna(data['Arrival Delay in Minutes'].median(), inplace = True)\n",
        "    return data\n",
        "\n",
        "dataset = transform_data(dataset)\n"
      ]
    },
    {
      "cell_type": "code",
      "execution_count": null,
      "metadata": {
        "id": "b2UvU8x7pD1c",
        "outputId": "eabb7700-b2cb-42d9-e2b9-6324681b1915"
      },
      "outputs": [
        {
          "data": {
            "text/html": [
              "<div>\n",
              "<style scoped>\n",
              "    .dataframe tbody tr th:only-of-type {\n",
              "        vertical-align: middle;\n",
              "    }\n",
              "\n",
              "    .dataframe tbody tr th {\n",
              "        vertical-align: top;\n",
              "    }\n",
              "\n",
              "    .dataframe thead th {\n",
              "        text-align: right;\n",
              "    }\n",
              "</style>\n",
              "<table border=\"1\" class=\"dataframe\">\n",
              "  <thead>\n",
              "    <tr style=\"text-align: right;\">\n",
              "      <th></th>\n",
              "      <th>Gender</th>\n",
              "      <th>Age</th>\n",
              "      <th>Class</th>\n",
              "      <th>Flight Distance</th>\n",
              "      <th>Inflight wifi service</th>\n",
              "      <th>Ease of Online booking</th>\n",
              "      <th>Food and drink</th>\n",
              "      <th>Online boarding</th>\n",
              "      <th>Seat comfort</th>\n",
              "      <th>Inflight entertainment</th>\n",
              "      <th>On-board service</th>\n",
              "      <th>Baggage handling</th>\n",
              "      <th>Checkin service</th>\n",
              "      <th>Inflight service</th>\n",
              "      <th>Cleanliness</th>\n",
              "      <th>Departure Delay in Minutes</th>\n",
              "      <th>Arrival Delay in Minutes</th>\n",
              "      <th>Buy ticket in future</th>\n",
              "    </tr>\n",
              "  </thead>\n",
              "  <tbody>\n",
              "    <tr>\n",
              "      <th>0</th>\n",
              "      <td>0</td>\n",
              "      <td>13</td>\n",
              "      <td>1</td>\n",
              "      <td>460</td>\n",
              "      <td>3</td>\n",
              "      <td>3</td>\n",
              "      <td>5</td>\n",
              "      <td>3</td>\n",
              "      <td>5</td>\n",
              "      <td>5</td>\n",
              "      <td>4</td>\n",
              "      <td>4</td>\n",
              "      <td>4</td>\n",
              "      <td>5</td>\n",
              "      <td>5</td>\n",
              "      <td>25</td>\n",
              "      <td>18.0</td>\n",
              "      <td>0</td>\n",
              "    </tr>\n",
              "    <tr>\n",
              "      <th>1</th>\n",
              "      <td>0</td>\n",
              "      <td>25</td>\n",
              "      <td>2</td>\n",
              "      <td>235</td>\n",
              "      <td>3</td>\n",
              "      <td>3</td>\n",
              "      <td>1</td>\n",
              "      <td>3</td>\n",
              "      <td>1</td>\n",
              "      <td>1</td>\n",
              "      <td>1</td>\n",
              "      <td>3</td>\n",
              "      <td>1</td>\n",
              "      <td>4</td>\n",
              "      <td>1</td>\n",
              "      <td>1</td>\n",
              "      <td>6.0</td>\n",
              "      <td>0</td>\n",
              "    </tr>\n",
              "    <tr>\n",
              "      <th>2</th>\n",
              "      <td>1</td>\n",
              "      <td>26</td>\n",
              "      <td>2</td>\n",
              "      <td>1142</td>\n",
              "      <td>2</td>\n",
              "      <td>2</td>\n",
              "      <td>5</td>\n",
              "      <td>5</td>\n",
              "      <td>5</td>\n",
              "      <td>5</td>\n",
              "      <td>4</td>\n",
              "      <td>4</td>\n",
              "      <td>4</td>\n",
              "      <td>4</td>\n",
              "      <td>5</td>\n",
              "      <td>0</td>\n",
              "      <td>0.0</td>\n",
              "      <td>1</td>\n",
              "    </tr>\n",
              "    <tr>\n",
              "      <th>3</th>\n",
              "      <td>1</td>\n",
              "      <td>25</td>\n",
              "      <td>2</td>\n",
              "      <td>562</td>\n",
              "      <td>2</td>\n",
              "      <td>5</td>\n",
              "      <td>2</td>\n",
              "      <td>2</td>\n",
              "      <td>2</td>\n",
              "      <td>2</td>\n",
              "      <td>2</td>\n",
              "      <td>3</td>\n",
              "      <td>1</td>\n",
              "      <td>4</td>\n",
              "      <td>2</td>\n",
              "      <td>11</td>\n",
              "      <td>9.0</td>\n",
              "      <td>0</td>\n",
              "    </tr>\n",
              "    <tr>\n",
              "      <th>4</th>\n",
              "      <td>0</td>\n",
              "      <td>61</td>\n",
              "      <td>2</td>\n",
              "      <td>214</td>\n",
              "      <td>3</td>\n",
              "      <td>3</td>\n",
              "      <td>4</td>\n",
              "      <td>5</td>\n",
              "      <td>5</td>\n",
              "      <td>3</td>\n",
              "      <td>3</td>\n",
              "      <td>4</td>\n",
              "      <td>3</td>\n",
              "      <td>3</td>\n",
              "      <td>3</td>\n",
              "      <td>0</td>\n",
              "      <td>0.0</td>\n",
              "      <td>1</td>\n",
              "    </tr>\n",
              "  </tbody>\n",
              "</table>\n",
              "</div>"
            ],
            "text/plain": [
              "   Gender  Age  Class  Flight Distance  Inflight wifi service  \\\n",
              "0       0   13      1              460                      3   \n",
              "1       0   25      2              235                      3   \n",
              "2       1   26      2             1142                      2   \n",
              "3       1   25      2              562                      2   \n",
              "4       0   61      2              214                      3   \n",
              "\n",
              "   Ease of Online booking  Food and drink  Online boarding  Seat comfort  \\\n",
              "0                       3               5                3             5   \n",
              "1                       3               1                3             1   \n",
              "2                       2               5                5             5   \n",
              "3                       5               2                2             2   \n",
              "4                       3               4                5             5   \n",
              "\n",
              "   Inflight entertainment  On-board service  Baggage handling  \\\n",
              "0                       5                 4                 4   \n",
              "1                       1                 1                 3   \n",
              "2                       5                 4                 4   \n",
              "3                       2                 2                 3   \n",
              "4                       3                 3                 4   \n",
              "\n",
              "   Checkin service  Inflight service  Cleanliness  Departure Delay in Minutes  \\\n",
              "0                4                 5            5                          25   \n",
              "1                1                 4            1                           1   \n",
              "2                4                 4            5                           0   \n",
              "3                1                 4            2                          11   \n",
              "4                3                 3            3                           0   \n",
              "\n",
              "   Arrival Delay in Minutes  Buy ticket in future  \n",
              "0                      18.0                     0  \n",
              "1                       6.0                     0  \n",
              "2                       0.0                     1  \n",
              "3                       9.0                     0  \n",
              "4                       0.0                     1  "
            ]
          },
          "execution_count": 11,
          "metadata": {},
          "output_type": "execute_result"
        }
      ],
      "source": [
        "dataset.head()"
      ]
    },
    {
      "cell_type": "code",
      "execution_count": null,
      "metadata": {
        "id": "wzGBfTfqpD1c",
        "outputId": "fdbeb90a-8d9d-4a0a-ffd9-4b4ca0d585db"
      },
      "outputs": [
        {
          "data": {
            "text/plain": [
              "<bound method DataFrame.info of         Gender  Age  Class  Flight Distance  Inflight wifi service  \\\n",
              "0            0   13      1              460                      3   \n",
              "1            0   25      2              235                      3   \n",
              "2            1   26      2             1142                      2   \n",
              "3            1   25      2              562                      2   \n",
              "4            0   61      2              214                      3   \n",
              "...        ...  ...    ...              ...                    ...   \n",
              "103899       1   23      0              192                      2   \n",
              "103900       0   49      2             2347                      4   \n",
              "103901       0   30      2             1995                      1   \n",
              "103902       1   22      0             1000                      1   \n",
              "103903       0   27      2             1723                      1   \n",
              "\n",
              "        Ease of Online booking  Food and drink  Online boarding  Seat comfort  \\\n",
              "0                            3               5                3             5   \n",
              "1                            3               1                3             1   \n",
              "2                            2               5                5             5   \n",
              "3                            5               2                2             2   \n",
              "4                            3               4                5             5   \n",
              "...                        ...             ...              ...           ...   \n",
              "103899                       2               2                2             2   \n",
              "103900                       4               2                4             5   \n",
              "103901                       1               4                1             5   \n",
              "103902                       1               1                1             1   \n",
              "103903                       3               1                1             1   \n",
              "\n",
              "        Inflight entertainment  On-board service  Baggage handling  \\\n",
              "0                            5                 4                 4   \n",
              "1                            1                 1                 3   \n",
              "2                            5                 4                 4   \n",
              "3                            2                 2                 3   \n",
              "4                            3                 3                 4   \n",
              "...                        ...               ...               ...   \n",
              "103899                       2                 3                 4   \n",
              "103900                       5                 5                 5   \n",
              "103901                       4                 3                 4   \n",
              "103902                       1                 4                 1   \n",
              "103903                       1                 1                 4   \n",
              "\n",
              "        Checkin service  Inflight service  Cleanliness  \\\n",
              "0                     4                 5            5   \n",
              "1                     1                 4            1   \n",
              "2                     4                 4            5   \n",
              "3                     1                 4            2   \n",
              "4                     3                 3            3   \n",
              "...                 ...               ...          ...   \n",
              "103899                2                 3            2   \n",
              "103900                5                 5            4   \n",
              "103901                5                 5            4   \n",
              "103902                5                 4            1   \n",
              "103903                4                 3            1   \n",
              "\n",
              "        Departure Delay in Minutes  Arrival Delay in Minutes  \\\n",
              "0                               25                      18.0   \n",
              "1                                1                       6.0   \n",
              "2                                0                       0.0   \n",
              "3                               11                       9.0   \n",
              "4                                0                       0.0   \n",
              "...                            ...                       ...   \n",
              "103899                           3                       0.0   \n",
              "103900                           0                       0.0   \n",
              "103901                           7                      14.0   \n",
              "103902                           0                       0.0   \n",
              "103903                           0                       0.0   \n",
              "\n",
              "        Buy ticket in future  \n",
              "0                          0  \n",
              "1                          0  \n",
              "2                          1  \n",
              "3                          0  \n",
              "4                          1  \n",
              "...                      ...  \n",
              "103899                     0  \n",
              "103900                     1  \n",
              "103901                     0  \n",
              "103902                     0  \n",
              "103903                     0  \n",
              "\n",
              "[103904 rows x 18 columns]>"
            ]
          },
          "execution_count": 12,
          "metadata": {},
          "output_type": "execute_result"
        }
      ],
      "source": [
        "dataset.info"
      ]
    },
    {
      "cell_type": "code",
      "execution_count": null,
      "metadata": {
        "id": "auyRvVQlpD1d"
      },
      "outputs": [],
      "source": [
        "feature_names = ['Gender', 'Age', 'Class', 'Flight Distance', 'Inflight wifi service', 'Ease of Online booking', \n",
        "                 'Food and drink', 'Online boarding', 'Seat comfort', 'Inflight entertainment', 'On-board service', \n",
        "                 'Baggage handling', 'Checkin service', 'Inflight service', 'Cleanliness', 'Departure Delay in Minutes', \n",
        "                 'Arrival Delay in Minutes', 'Arrival Delay in Minutes']\n",
        "target = ['Buy ticket in future']\n",
        "\n",
        "#features\n",
        "x = dataset[feature_names] \n",
        "#target\n",
        "y = dataset[target] \n"
      ]
    },
    {
      "cell_type": "code",
      "execution_count": null,
      "metadata": {
        "id": "TIf5S_1hpD1d"
      },
      "outputs": [],
      "source": [
        "from sklearn.model_selection import train_test_split\n",
        "x_train, x_test, y_train, y_test = train_test_split(x, y, random_state=0)\n"
      ]
    },
    {
      "cell_type": "code",
      "execution_count": null,
      "metadata": {
        "id": "GWsofo8spD1d",
        "outputId": "7b14fa03-f9eb-44e2-b2b5-bf03aa8f88fd"
      },
      "outputs": [
        {
          "name": "stdout",
          "output_type": "stream",
          "text": [
            "x_train:         Gender  Age  Class  Flight Distance  Inflight wifi service  \\\n",
            "54759       1   63      1              371                      4   \n",
            "28103       1   37      2             2401                      2   \n",
            "5463        1   51      0              651                      5   \n",
            "12812       1   40      0              532                      1   \n",
            "57417       0   24      0              948                      2   \n",
            "...       ...  ...    ...              ...                    ...   \n",
            "21243       1   46      0              235                      5   \n",
            "45891       0   50      2             1428                      3   \n",
            "42613       0   19      0              493                      5   \n",
            "43567       1   69      0              925                      2   \n",
            "68268       1   32      0              352                      3   \n",
            "\n",
            "       Ease of Online booking  Food and drink  Online boarding  Seat comfort  \\\n",
            "54759                       4               1                3             4   \n",
            "28103                       2               4                1             3   \n",
            "5463                        5               5                2             4   \n",
            "12812                       1               1                1             1   \n",
            "57417                       2               1                2             1   \n",
            "...                       ...             ...              ...           ...   \n",
            "21243                       1               3                1             1   \n",
            "45891                       3               1                5             5   \n",
            "42613                       5               3                5             3   \n",
            "43567                       2               2                5             4   \n",
            "68268                       3               2                3             2   \n",
            "\n",
            "       Inflight entertainment  On-board service  Baggage handling  \\\n",
            "54759                       3                 3                 3   \n",
            "28103                       5                 5                 5   \n",
            "5463                        4                 4                 1   \n",
            "12812                       1                 5                 4   \n",
            "57417                       1                 1                 3   \n",
            "...                       ...               ...               ...   \n",
            "21243                       5                 5                 5   \n",
            "45891                       5                 5                 5   \n",
            "42613                       3                 4                 4   \n",
            "43567                       5                 5                 5   \n",
            "68268                       2                 5                 4   \n",
            "\n",
            "       Checkin service  Inflight service  Cleanliness  \\\n",
            "54759                3                 3            1   \n",
            "28103                3                 5            2   \n",
            "5463                 1                 4            3   \n",
            "12812                4                 4            1   \n",
            "57417                2                 4            1   \n",
            "...                ...               ...          ...   \n",
            "21243                3                 5            1   \n",
            "45891                2                 5            2   \n",
            "42613                3                 4            3   \n",
            "43567                4                 5            5   \n",
            "68268                4                 4            2   \n",
            "\n",
            "       Departure Delay in Minutes  Arrival Delay in Minutes  \\\n",
            "54759                           0                       0.0   \n",
            "28103                           0                       0.0   \n",
            "5463                            1                       0.0   \n",
            "12812                           0                       0.0   \n",
            "57417                           0                       0.0   \n",
            "...                           ...                       ...   \n",
            "21243                          14                       0.0   \n",
            "45891                           0                       0.0   \n",
            "42613                           0                       0.0   \n",
            "43567                           0                       0.0   \n",
            "68268                           0                       0.0   \n",
            "\n",
            "       Arrival Delay in Minutes  \n",
            "54759                       0.0  \n",
            "28103                       0.0  \n",
            "5463                        0.0  \n",
            "12812                       0.0  \n",
            "57417                       0.0  \n",
            "...                         ...  \n",
            "21243                       0.0  \n",
            "45891                       0.0  \n",
            "42613                       0.0  \n",
            "43567                       0.0  \n",
            "68268                       0.0  \n",
            "\n",
            "[77928 rows x 18 columns]\n",
            "x_test:         Gender  Age  Class  Flight Distance  Inflight wifi service  \\\n",
            "70655        0   39      2             3598                      3   \n",
            "56114        1   67      0             2072                      2   \n",
            "95351        0   23      0              862                      2   \n",
            "32181        1   60      2              409                      1   \n",
            "5214         0   29      1              222                      5   \n",
            "...        ...  ...    ...              ...                    ...   \n",
            "28117        1   43      2             2079                      5   \n",
            "14513        1   45      2             3019                      5   \n",
            "72577        0   59      2             1010                      2   \n",
            "100403       0   27      0              628                      2   \n",
            "23119        0   39      2             1005                      4   \n",
            "\n",
            "        Ease of Online booking  Food and drink  Online boarding  Seat comfort  \\\n",
            "70655                        4               5                4             5   \n",
            "56114                        2               5                4             4   \n",
            "95351                        2               1                2             1   \n",
            "32181                        5               1                3             4   \n",
            "5214                         5               5                5             5   \n",
            "...                        ...             ...              ...           ...   \n",
            "28117                        4               3                4             4   \n",
            "14513                        5               3                3             3   \n",
            "72577                        2               4                5             4   \n",
            "100403                       1               4                1             1   \n",
            "23119                        3               5                3             3   \n",
            "\n",
            "        Inflight entertainment  On-board service  Baggage handling  \\\n",
            "70655                        4                 4                 4   \n",
            "56114                        2                 2                 2   \n",
            "95351                        1                 2                 4   \n",
            "32181                        1                 1                 1   \n",
            "5214                         5                 1                 5   \n",
            "...                        ...               ...               ...   \n",
            "28117                        5                 5                 5   \n",
            "14513                        4                 4                 4   \n",
            "72577                        4                 4                 4   \n",
            "100403                       4                 4                 4   \n",
            "23119                        5                 5                 5   \n",
            "\n",
            "        Checkin service  Inflight service  Cleanliness  \\\n",
            "70655                 4                 4            3   \n",
            "56114                 5                 2            5   \n",
            "95351                 2                 4            1   \n",
            "32181                 1                 1            1   \n",
            "5214                  3                 2            5   \n",
            "...                 ...               ...          ...   \n",
            "28117                 3                 5            5   \n",
            "14513                 4                 4            2   \n",
            "72577                 5                 4            5   \n",
            "100403                4                 3            4   \n",
            "23119                 4                 4            5   \n",
            "\n",
            "        Departure Delay in Minutes  Arrival Delay in Minutes  \\\n",
            "70655                            0                       0.0   \n",
            "56114                            0                       0.0   \n",
            "95351                           30                      32.0   \n",
            "32181                            6                       0.0   \n",
            "5214                             0                       0.0   \n",
            "...                            ...                       ...   \n",
            "28117                            2                       0.0   \n",
            "14513                            0                       0.0   \n",
            "72577                           10                       0.0   \n",
            "100403                          18                      13.0   \n",
            "23119                            0                       0.0   \n",
            "\n",
            "        Arrival Delay in Minutes  \n",
            "70655                        0.0  \n",
            "56114                        0.0  \n",
            "95351                       32.0  \n",
            "32181                        0.0  \n",
            "5214                         0.0  \n",
            "...                          ...  \n",
            "28117                        0.0  \n",
            "14513                        0.0  \n",
            "72577                        0.0  \n",
            "100403                      13.0  \n",
            "23119                        0.0  \n",
            "\n",
            "[25976 rows x 18 columns]\n",
            "y_train:        Buy ticket in future\n",
            "54759                     0\n",
            "28103                     1\n",
            "5463                      1\n",
            "12812                     0\n",
            "57417                     0\n",
            "...                     ...\n",
            "21243                     1\n",
            "45891                     1\n",
            "42613                     1\n",
            "43567                     0\n",
            "68268                     0\n",
            "\n",
            "[77928 rows x 1 columns]\n",
            "y_test:         Buy ticket in future\n",
            "70655                      1\n",
            "56114                      0\n",
            "95351                      0\n",
            "32181                      0\n",
            "5214                       1\n",
            "...                      ...\n",
            "28117                      1\n",
            "14513                      1\n",
            "72577                      1\n",
            "100403                     0\n",
            "23119                      0\n",
            "\n",
            "[25976 rows x 1 columns]\n"
          ]
        }
      ],
      "source": [
        "print(\"x_train: \", x_train)\n",
        "print(\"x_test:\", x_test)\n",
        "print(\"y_train:\", y_train)\n",
        "print(\"y_test:\", y_test)\n"
      ]
    },
    {
      "cell_type": "code",
      "execution_count": null,
      "metadata": {
        "id": "AWoA9EBSpD1e",
        "outputId": "c733ae4c-6265-4493-9e02-e6f45b7941b2"
      },
      "outputs": [
        {
          "name": "stdout",
          "output_type": "stream",
          "text": [
            "train: (77928, 18)\n"
          ]
        }
      ],
      "source": [
        "print(\"train:\", x_train.shape)\n"
      ]
    },
    {
      "cell_type": "code",
      "execution_count": null,
      "metadata": {
        "id": "Sbq1ipM4pD1e",
        "outputId": "0abdc8d7-ab34-44af-d655-f9112ef368e8"
      },
      "outputs": [
        {
          "name": "stdout",
          "output_type": "stream",
          "text": [
            "test: (25976, 18)\n"
          ]
        }
      ],
      "source": [
        "print(\"test:\", x_test.shape)\n"
      ]
    },
    {
      "cell_type": "code",
      "execution_count": null,
      "metadata": {
        "id": "5DYCyh0PpD1e"
      },
      "outputs": [],
      "source": [
        "from sklearn.preprocessing import StandardScaler\n",
        "scaling = StandardScaler()\n",
        "x_train = scaling.fit_transform(x_train)\n",
        "x_test = scaling.fit_transform(x_test)\n"
      ]
    },
    {
      "cell_type": "code",
      "execution_count": null,
      "metadata": {
        "id": "q3JeiSKhpD1e",
        "outputId": "2132c8fc-0866-4b5e-cd64-de81007c8c11"
      },
      "outputs": [
        {
          "name": "stdout",
          "output_type": "stream",
          "text": [
            "[[ 0.98643832  1.55999611 -0.02624329 ... -0.39007055 -0.39397522\n",
            "  -0.39397522]\n",
            " [ 0.98643832 -0.15660962  1.01239939 ... -0.39007055 -0.39397522\n",
            "  -0.39397522]\n",
            " [ 0.98643832  0.76771654 -1.06488597 ... -0.36372098 -0.39397522\n",
            "  -0.39397522]\n",
            " ...\n",
            " [-1.01374813 -1.34502897 -1.06488597 ... -0.39007055 -0.39397522\n",
            "  -0.39397522]\n",
            " [ 0.98643832  1.9561359  -1.06488597 ... -0.39007055 -0.39397522\n",
            "  -0.39397522]\n",
            " [ 0.98643832 -0.48672611 -1.06488597 ... -0.39007055 -0.39397522\n",
            "  -0.39397522]]\n"
          ]
        }
      ],
      "source": [
        "print(x_train)"
      ]
    },
    {
      "cell_type": "code",
      "execution_count": null,
      "metadata": {
        "id": "WLy1yMU4pD1f"
      },
      "outputs": [],
      "source": [
        "from sklearn.tree import DecisionTreeClassifier\n",
        "classifier = DecisionTreeClassifier().fit(x_train, y_train)\n"
      ]
    },
    {
      "cell_type": "code",
      "execution_count": null,
      "metadata": {
        "id": "EC2rDUjlpD1f"
      },
      "outputs": [],
      "source": [
        "y_pred = classifier.predict(x_test)\n"
      ]
    },
    {
      "cell_type": "code",
      "execution_count": null,
      "metadata": {
        "id": "lyJp_K4ppD1f",
        "outputId": "65de674d-c7a8-40c1-bfcb-4e38e834daea"
      },
      "outputs": [
        {
          "name": "stdout",
          "output_type": "stream",
          "text": [
            "[[13644  1090]\n",
            " [ 1012 10230]]\n"
          ]
        }
      ],
      "source": [
        "from sklearn.metrics import classification_report\n",
        "from sklearn.metrics import confusion_matrix\n",
        "print(confusion_matrix(y_test, y_pred))\n"
      ]
    },
    {
      "cell_type": "code",
      "execution_count": null,
      "metadata": {
        "id": "EpSyC6HUpD1f",
        "outputId": "8c3f4432-8e8b-470d-9298-6241786231a4"
      },
      "outputs": [
        {
          "name": "stdout",
          "output_type": "stream",
          "text": [
            "Accuracy of Decision Tree classifier on training set: 1.0\n",
            "Accuracy of Decision Tree classifier on test set: 0.9190791499846012\n"
          ]
        }
      ],
      "source": [
        "print('Accuracy of Decision Tree classifier on training set:', classifier.score(x_train, y_train))\n",
        "print('Accuracy of Decision Tree classifier on test set:', classifier.score(x_test, y_test))\n"
      ]
    },
    {
      "cell_type": "code",
      "execution_count": null,
      "metadata": {
        "id": "Ft8WWk3zpD1f",
        "outputId": "55998ca4-6d88-4aa5-e1e1-903c0bca4b7c"
      },
      "outputs": [
        {
          "name": "stdout",
          "output_type": "stream",
          "text": [
            "Accuracy_score 0.9190791499846012\n"
          ]
        }
      ],
      "source": [
        "print('Accuracy_score', sklearn.metrics.accuracy_score(y_test, y_pred))\n"
      ]
    },
    {
      "cell_type": "code",
      "execution_count": null,
      "metadata": {
        "id": "5h4wGPompD1g",
        "outputId": "357e0555-1c28-46d3-d3e6-c253d1bb1327"
      },
      "outputs": [
        {
          "name": "stdout",
          "output_type": "stream",
          "text": [
            "              precision    recall  f1-score   support\n",
            "\n",
            "           0       0.93      0.93      0.93     14734\n",
            "           1       0.90      0.91      0.91     11242\n",
            "\n",
            "    accuracy                           0.92     25976\n",
            "   macro avg       0.92      0.92      0.92     25976\n",
            "weighted avg       0.92      0.92      0.92     25976\n",
            "\n"
          ]
        }
      ],
      "source": [
        "print(classification_report(y_test, y_pred))"
      ]
    },
    {
      "cell_type": "code",
      "execution_count": null,
      "metadata": {
        "id": "1BXFj2aJpD1g",
        "outputId": "a0f6d28a-1c51-4cab-977d-a815dd99c637"
      },
      "outputs": [
        {
          "name": "stdout",
          "output_type": "stream",
          "text": [
            "[[13644  1090]\n",
            " [ 1012 10230]]\n"
          ]
        }
      ],
      "source": [
        "print(confusion_matrix(y_test, y_pred))\n",
        "\n",
        "\n"
      ]
    },
    {
      "cell_type": "code",
      "execution_count": null,
      "metadata": {
        "id": "AkJafSPipD1g",
        "outputId": "fe85db6d-bd6e-4997-a2a9-7f0af1d95557"
      },
      "outputs": [
        {
          "name": "stdout",
          "output_type": "stream",
          "text": [
            "              precision    recall  f1-score   support\n",
            "\n",
            "           0       0.93      0.93      0.93     14734\n",
            "           1       0.90      0.91      0.91     11242\n",
            "\n",
            "    accuracy                           0.92     25976\n",
            "   macro avg       0.92      0.92      0.92     25976\n",
            "weighted avg       0.92      0.92      0.92     25976\n",
            "\n",
            "0.9190791499846012\n"
          ]
        }
      ],
      "source": [
        "from sklearn.metrics import classification_report, accuracy_score\n",
        "\n",
        "print(classification_report(y_test,y_pred))\n",
        "print(accuracy_score(y_test, y_pred))"
      ]
    },
    {
      "cell_type": "code",
      "execution_count": null,
      "metadata": {
        "id": "9SYbhYo2pD1g",
        "outputId": "3d2abd49-7f85-4de0-a1b3-e95a1c31a778"
      },
      "outputs": [
        {
          "name": "stdout",
          "output_type": "stream",
          "text": [
            "[[13644  1090]\n",
            " [ 1012 10230]]\n"
          ]
        }
      ],
      "source": [
        "print(confusion_matrix(y_test, y_pred))\n"
      ]
    },
    {
      "cell_type": "code",
      "execution_count": null,
      "metadata": {
        "id": "T7xVxWGTpD1g",
        "outputId": "63fd90fd-3ef1-4e58-97d9-a79ee717759d"
      },
      "outputs": [
        {
          "name": "stdout",
          "output_type": "stream",
          "text": [
            "              precision    recall  f1-score   support\n",
            "\n",
            "           0       0.93      0.93      0.93     14734\n",
            "           1       0.90      0.91      0.91     11242\n",
            "\n",
            "    accuracy                           0.92     25976\n",
            "   macro avg       0.92      0.92      0.92     25976\n",
            "weighted avg       0.92      0.92      0.92     25976\n",
            "\n",
            "0.9190791499846012\n"
          ]
        }
      ],
      "source": [
        "from sklearn.metrics import classification_report, accuracy_score\n",
        "print(classification_report(y_test,y_pred))\n",
        "print(accuracy_score(y_test, y_pred))"
      ]
    },
    {
      "cell_type": "code",
      "execution_count": null,
      "metadata": {
        "id": "gjcQobbcpD1g",
        "outputId": "7c07711d-a739-46aa-d4af-ddaa56b2b1bf"
      },
      "outputs": [
        {
          "name": "stdout",
          "output_type": "stream",
          "text": [
            "              precision    recall  f1-score   support\n",
            "\n",
            "           0       0.93      0.93      0.93     14734\n",
            "           1       0.90      0.91      0.91     11242\n",
            "\n",
            "    accuracy                           0.92     25976\n",
            "   macro avg       0.92      0.92      0.92     25976\n",
            "weighted avg       0.92      0.92      0.92     25976\n",
            "\n"
          ]
        }
      ],
      "source": [
        "print(classification_report(y_test, y_pred))"
      ]
    },
    {
      "cell_type": "code",
      "execution_count": null,
      "metadata": {
        "id": "VV_M3VjspD1h"
      },
      "outputs": [],
      "source": [
        "from sklearn.ensemble import RandomForestClassifier\n",
        "#fine Tuning the model using GridSearchCV"
      ]
    },
    {
      "cell_type": "code",
      "execution_count": null,
      "metadata": {
        "id": "tLK6joKdpD1h"
      },
      "outputs": [],
      "source": [
        "n_estimators =[int(x) for x in np.linspace(start =10, stop = 80, num = 10)]\n",
        "max_features = ['auto', 'sqrt']\n",
        "max_depth =[2, 4]\n",
        "min_samples_split = [2, 5]\n",
        "min_samples_leaf = [1, 2]\n",
        "bootstrap = [True, False]"
      ]
    },
    {
      "cell_type": "code",
      "execution_count": null,
      "metadata": {
        "id": "rwJl6giCpD1h",
        "outputId": "79112aa8-5abe-4151-ffc1-1b2f7e1be709"
      },
      "outputs": [
        {
          "name": "stdout",
          "output_type": "stream",
          "text": [
            "{'n_estimators': [10, 17, 25, 33, 41, 48, 56, 64, 72, 80], 'max_features': ['auto', 'sqrt'], 'max_depth': [2, 4], 'min_samples_split': [2, 5], 'min_samples_leaf': [1, 2], 'bootstrap': [True, False]}\n"
          ]
        }
      ],
      "source": [
        "param_grid ={'n_estimators': n_estimators,\n",
        "            'max_features':max_features,\n",
        "            'max_depth': max_depth,\n",
        "            'min_samples_split': min_samples_split,\n",
        "            'min_samples_leaf': min_samples_leaf,\n",
        "            'bootstrap': bootstrap}\n",
        "print(param_grid)\n"
      ]
    },
    {
      "cell_type": "code",
      "execution_count": null,
      "metadata": {
        "id": "qfXsbVLfpD1h"
      },
      "outputs": [],
      "source": [
        "rf_model = RandomForestClassifier()"
      ]
    },
    {
      "cell_type": "code",
      "execution_count": null,
      "metadata": {
        "id": "6KH0tJYTpD1h"
      },
      "outputs": [],
      "source": [
        "from sklearn.model_selection import GridSearchCV\n",
        "rf_Grid = GridSearchCV(estimator = rf_model, param_grid = param_grid, cv =3, verbose =2, n_jobs =4)"
      ]
    },
    {
      "cell_type": "code",
      "execution_count": null,
      "metadata": {
        "scrolled": true,
        "id": "dIQgm78opD1h",
        "outputId": "ad0cac9e-5c29-4d4f-808c-88a3b62b61ef"
      },
      "outputs": [
        {
          "name": "stdout",
          "output_type": "stream",
          "text": [
            "Fitting 3 folds for each of 320 candidates, totalling 960 fits\n"
          ]
        },
        {
          "name": "stderr",
          "output_type": "stream",
          "text": [
            "[Parallel(n_jobs=4)]: Using backend LokyBackend with 4 concurrent workers.\n",
            "[Parallel(n_jobs=4)]: Done  33 tasks      | elapsed:   29.4s\n",
            "[Parallel(n_jobs=4)]: Done 154 tasks      | elapsed:  2.0min\n",
            "[Parallel(n_jobs=4)]: Done 357 tasks      | elapsed:  5.1min\n",
            "[Parallel(n_jobs=4)]: Done 640 tasks      | elapsed:  8.5min\n",
            "[Parallel(n_jobs=4)]: Done 960 out of 960 | elapsed: 13.7min finished\n",
            "/Users/finestcash2016/opt/anaconda3/lib/python3.8/site-packages/sklearn/model_selection/_search.py:765: DataConversionWarning: A column-vector y was passed when a 1d array was expected. Please change the shape of y to (n_samples,), for example using ravel().\n",
            "  self.best_estimator_.fit(X, y, **fit_params)\n"
          ]
        },
        {
          "data": {
            "text/plain": [
              "GridSearchCV(cv=3, estimator=RandomForestClassifier(), n_jobs=4,\n",
              "             param_grid={'bootstrap': [True, False], 'max_depth': [2, 4],\n",
              "                         'max_features': ['auto', 'sqrt'],\n",
              "                         'min_samples_leaf': [1, 2],\n",
              "                         'min_samples_split': [2, 5],\n",
              "                         'n_estimators': [10, 17, 25, 33, 41, 48, 56, 64, 72,\n",
              "                                          80]},\n",
              "             verbose=2)"
            ]
          },
          "execution_count": 36,
          "metadata": {},
          "output_type": "execute_result"
        }
      ],
      "source": [
        "rf_Grid.fit(x_train, y_train)"
      ]
    },
    {
      "cell_type": "code",
      "execution_count": null,
      "metadata": {
        "id": "l6bOs0xXpD1h",
        "outputId": "895dc0fb-0db6-4f0e-b951-45848c1ab302"
      },
      "outputs": [
        {
          "data": {
            "text/plain": [
              "{'bootstrap': True,\n",
              " 'max_depth': 4,\n",
              " 'max_features': 'sqrt',\n",
              " 'min_samples_leaf': 1,\n",
              " 'min_samples_split': 5,\n",
              " 'n_estimators': 56}"
            ]
          },
          "execution_count": 37,
          "metadata": {},
          "output_type": "execute_result"
        }
      ],
      "source": [
        "rf_Grid.best_params_"
      ]
    },
    {
      "cell_type": "code",
      "execution_count": null,
      "metadata": {
        "id": "pLh6TFA2pD1i",
        "outputId": "f68ad31e-331a-4faa-a25f-7e46a29bbe4f"
      },
      "outputs": [
        {
          "name": "stdout",
          "output_type": "stream",
          "text": [
            "Train Accuracy -: 0.886\n",
            "Test Accuracy -: 0.885\n"
          ]
        }
      ],
      "source": [
        "print(f'Train Accuracy -: {rf_Grid.score(x_train,y_train):.3f}')\n",
        "print(f'Test Accuracy -: {rf_Grid.score(x_test,y_test):.3f}' )      "
      ]
    },
    {
      "cell_type": "code",
      "execution_count": null,
      "metadata": {
        "id": "lWJvkRybpD1i"
      },
      "outputs": [],
      "source": []
    }
  ],
  "metadata": {
    "kernelspec": {
      "display_name": "Python 3",
      "language": "python",
      "name": "python3"
    },
    "language_info": {
      "codemirror_mode": {
        "name": "ipython",
        "version": 3
      },
      "file_extension": ".py",
      "mimetype": "text/x-python",
      "name": "python",
      "nbconvert_exporter": "python",
      "pygments_lexer": "ipython3",
      "version": "3.8.8"
    },
    "colab": {
      "provenance": [],
      "include_colab_link": true
    }
  },
  "nbformat": 4,
  "nbformat_minor": 0
}